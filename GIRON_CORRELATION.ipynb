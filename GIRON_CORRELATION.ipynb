{
  "nbformat": 4,
  "nbformat_minor": 0,
  "metadata": {
    "colab": {
      "provenance": [],
      "collapsed_sections": [
        "NigYFzkv8kxx",
        "5FXcYTDk8qrS",
        "lr88swia8uQR",
        "928QePzBD-GC",
        "LDscohAmFr75"
      ],
      "include_colab_link": true
    },
    "kernelspec": {
      "name": "python3",
      "display_name": "Python 3"
    },
    "language_info": {
      "name": "python"
    }
  },
  "cells": [
    {
      "cell_type": "markdown",
      "metadata": {
        "id": "view-in-github",
        "colab_type": "text"
      },
      "source": [
        "<a href=\"https://colab.research.google.com/github/jericgiron/AIDA-2/blob/main/GIRON_CORRELATION.ipynb\" target=\"_parent\"><img src=\"https://colab.research.google.com/assets/colab-badge.svg\" alt=\"Open In Colab\"/></a>"
      ]
    },
    {
      "cell_type": "markdown",
      "metadata": {
        "id": "M15k8ZhQPlDx"
      },
      "source": [
        "# Topic 04.1: Regression\n",
        "$_{\\text{©D.J. Lopez | 2021 | Fundamentals of Machine Learning}}$\n",
        "\n",
        "Now we are starting with the core machine learning topics. We will first try be acquainted with supervised learning specifically with statistical learning. In this notebook, we will be discussing the most fundamental algorithm in Data Science and Artificial Intelligence — Regression. Specifically we will cover the following topics:\n",
        "* Linear Regression\n",
        "* Least Squares\n",
        "* Multiple Linear Regression\n"
      ]
    },
    {
      "cell_type": "markdown",
      "metadata": {
        "id": "BsJ2SocbUg1Z"
      },
      "source": [
        "## 4.1 Correlation\n",
        "Before dwelling into regression we must first lay the difference between correlation and causation. Regression specifically talks about the causality or the the cause and effect relationship of variables. Whereas correlation talks about how associated variables are.\n",
        "\n",
        "![img](https://external-content.duckduckgo.com/iu/?u=https%3A%2F%2Fd35fo82fjcw0y8.cloudfront.net%2F2018%2F07%2F05092148%2Fcorrelation-vs-causation-phone-RAM1-1024x574.png&f=1&nofb=1)\n",
        "\n",
        "In this example we can see a distinction from correlation and causation. There will be an association with messages failing to send and the freezing of your phone. You could say something:\n",
        "\n",
        "* A: \"I can't send messages whenever my phone freezes. and conversely:\n",
        "\n",
        "* B: \"My phone froze so I can't send messages.\". \n",
        "\n",
        "A and B still make sense even if we switch up the logic. The statements could be symmetric! But if you try to put into a condition statement or implication it doesn't give much meaning. For example we could say: \n",
        "\n",
        "* C: \"If my phone freezes I can't send messages.\" and\n",
        "\n",
        "* D: \"If I can't send messages, then my phone froze\".\n",
        "\n",
        "Now the two statements does not have same meaning. This is now a perspective of causality. One factor affecting the other. Now not all variables causes the other to happen. There would be times that there is an indirect relationship, and a hidden variable establishes the causality, we call this a **confounding variable**.\n",
        "\n"
      ]
    },
    {
      "cell_type": "markdown",
      "metadata": {
        "id": "FDwPfqBAXoix"
      },
      "source": [
        "### 4.1.1 Covariance\n",
        "\n",
        "Now let's acquainted with another statistic called covariance. The covariance tells us the relationship between variables in datasets. A positive covariance indicates that the varaibles are moving along the same direction or they are directly proportional while negative covariances tell us that these variables have inverse relationships. We can compute the covariance as:\n",
        "\n",
        "$$\\text{Cov}(X,Y) = \\frac{1}{N}\\sum^N_{i=0}(x_i-\\bar{x})(y_i-\\bar{y})\\\\_{\\text{Eq. 4.1}}$$"
      ]
    },
    {
      "cell_type": "code",
      "metadata": {
        "id": "-wrnPm8hph9k"
      },
      "source": [
        "import numpy as np\n",
        "import matplotlib.pyplot as plt\n",
        "import pandas as pd"
      ],
      "execution_count": 2,
      "outputs": []
    },
    {
      "cell_type": "code",
      "metadata": {
        "colab": {
          "base_uri": "https://localhost:8080/",
          "height": 320
        },
        "id": "VDZ8_GXrXoXc",
        "outputId": "4e01945c-eb2f-4f6d-de00-744b05ed1ff2"
      },
      "source": [
        "'''\n",
        "Let's create dummy data showing positive and negative correlations\n",
        "'''\n",
        "def create_corr_data(n,is_neg=False):\n",
        "  inv = -1 if is_neg else 1\n",
        "  X = np.arange(0,n,1,dtype=np.float64) ## features\n",
        "  m = inv*np.random.uniform(0.1,0.3,(n,)) ## weights\n",
        "  b = np.random.uniform(8,10,(n,)) ## biases\n",
        "  y = m*X+b  ## targets\n",
        "  return X,y,m,b\n",
        "\n",
        "n=100\n",
        "X,y,_,_ = create_corr_data(n,is_neg=True)\n",
        "\n",
        "plt.figure(figsize=(5,5))\n",
        "plt.grid()\n",
        "plt.scatter(X,y)\n",
        "plt.show()"
      ],
      "execution_count": 4,
      "outputs": [
        {
          "output_type": "display_data",
          "data": {
            "text/plain": [
              "<Figure size 360x360 with 1 Axes>"
            ],
            "image/png": "[encoded data removed]"
          },
          "metadata": {
            "needs_background": "light"
          }
        }
      ]
    },
    {
      "cell_type": "code",
      "metadata": {
        "colab": {
          "base_uri": "https://localhost:8080/",
          "height": 338
        },
        "id": "vT7pRMLycr7b",
        "outputId": "0e535490-2684-45ec-bf83-1014111529be"
      },
      "source": [
        "## Coding covariances\n",
        "\n",
        "### Prepare the dataset\n",
        "n=50\n",
        "X,y,_,_ = create_corr_data(n,is_neg=True)\n",
        "## take the means of X and Y\n",
        "x_bar = X.mean()\n",
        "y_bar = y.mean()\n",
        "\n",
        "## get the difference for each data point from their means\n",
        "sst_x = X-x_bar\n",
        "sst_y = y-y_bar\n",
        "\n",
        "## compute for the covariance by Eq. 4.1\n",
        "cov = np.mean(sst_x*sst_y)\n",
        "\n",
        "plt.figure(figsize=(5,5))\n",
        "plt.grid()\n",
        "plt.scatter(X,y)\n",
        "plt.show()\n",
        "print(f'Covariance is: {cov}')\n",
        "\n",
        "## Try to create a cov function that will dynamically ask users for two datasets"
      ],
      "execution_count": 52,
      "outputs": [
        {
          "output_type": "display_data",
          "data": {
            "text/plain": [
              "<Figure size 360x360 with 1 Axes>"
            ],
            "image/png": "[encoded data removed]"
          },
          "metadata": {
            "needs_background": "light"
          }
        },
        {
          "output_type": "stream",
          "name": "stdout",
          "text": [
            "Covariance is: -40.24692255882071\n"
          ]
        }
      ]
    },
    {
      "cell_type": "markdown",
      "metadata": {
        "id": "Ey_h3cbjidZT"
      },
      "source": [
        "#### Variance-Covariance Matrix\n",
        "\n",
        "Another useful matrix in statistics is the Variance-covariance matrix. This matrix shows the dispersion of each variable. It is easier to remember the format of the matrix as:\n",
        "$$\\begin{bmatrix} \\text{Cov}(X,X) & \\text{Cov}(X,y) \\\\\n",
        "\\text{Cov}(y,X) & \\text{Cov}(y,y) \\end{bmatrix}$$\n",
        "\n",
        "For brevity it can be formally expressed as:\n",
        "$$\\begin{bmatrix} \\sigma^2_X & \\text{Cov}(X,y) \\\\\n",
        "\\text{Cov}(y,X) & \\sigma^2_y\\end{bmatrix}$$"
      ]
    },
    {
      "cell_type": "code",
      "metadata": {
        "colab": {
          "base_uri": "https://localhost:8080/"
        },
        "id": "HhOmrqLjhrX7",
        "outputId": "1e24579e-0c34-4108-c787-99f36844a79f"
      },
      "source": [
        "## To get the covairance matrix we use np.cov\n",
        "cov_mat = np.cov(X,y, bias=True) ## we tick the bias since we used a bias term\n",
        "\n",
        "## We can then take cov(x,y) at the (0,1) position of a covariance matrix\n",
        "cov_mat[0,1]"
      ],
      "execution_count": 53,
      "outputs": [
        {
          "output_type": "execute_result",
          "data": {
            "text/plain": [
              "-40.2469225588207"
            ]
          },
          "metadata": {},
          "execution_count": 53
        }
      ]
    },
    {
      "cell_type": "markdown",
      "metadata": {
        "id": "WTOeq2kwX35Z"
      },
      "source": [
        "### 4.1.2 Pearson Correlation\n",
        "Another measure of relationship of datasets is the Pearson Correlation Coefficient or Pearson's R. Pearson's R is specifically a measure of linear correlation between data. It can be interpreted as the ratio between the covariances of the two variables and the product of their standard deviations.\n",
        "$$r_{X,y} = \\frac{\\text{Cov(X,y)}}{\\sigma_X \\sigma_y} \\\\_{\\text{Eq. 4.2}}$$"
      ]
    },
    {
      "cell_type": "code",
      "metadata": {
        "colab": {
          "base_uri": "https://localhost:8080/"
        },
        "id": "5MV3YbJyhdMD",
        "outputId": "13023784-5202-4270-c7a2-c7f3b7b85dfc"
      },
      "source": [
        "### Obtain a dataset\n",
        "n=100\n",
        "X,y,_,_ = create_corr_data(n,is_neg=False)\n",
        "\n",
        "## Compute for cov(x,y)\n",
        "cov_xy = np.cov(X,y, bias=True)[0,1]\n",
        "\n",
        "## Get the st.dev of X and y\n",
        "std_X = np.std(X)\n",
        "std_y = np.std(y)\n",
        "\n",
        "## Compute for Pearson's R\n",
        "R = cov_xy / (std_X*std_y)\n",
        "R"
      ],
      "execution_count": 54,
      "outputs": [
        {
          "output_type": "execute_result",
          "data": {
            "text/plain": [
              "0.8848547329807197"
            ]
          },
          "metadata": {},
          "execution_count": 54
        }
      ]
    },
    {
      "cell_type": "markdown",
      "metadata": {
        "id": "Rl_GtK2bmuzI"
      },
      "source": [
        "Now you might wonder if you would use `np.corrcoeff()` it will be a different value. This is because we are using the general  form of Pearson's R for population. NumPy uses are more stable and more adaptable for samples. We will not cover it in this notebook but you if you want to know more you can read futher [here](http://statisticslectures.com/topics/pearsonr/).\n",
        "\n",
        "$$\\omega_1 = r\\frac{\\sigma_y}{\\sigma_x}=\\frac{\\bar{y}*\\sum(x_i^2)-\\bar{x}\\sum(x_i*y_i)}{\\sum(x^2_i-n\\bar{x}^2)}\\\\ _{\\text{(Eq. 4.2.1)}}$$\n",
        "$$\\omega_0 =\\bar{y}-\\omega_1\\bar{x}= \\frac{\\sum(x_i*y_i)-\\bar{x}\\sum(y_i)}{\\sum(x^2_i-n\\bar{x}^2)}\\\\ _{\\text{(Eq. 4.2.2)}}$$\n",
        "\n",
        "Whereas $r$ is the Pearson correlation solved as:\n",
        "$$r = \\frac{\\sum((x-\\bar{x})(y-\\bar{y}))}{\\sqrt{\\sum(x-\\bar{x})\\sum(y-\\bar{y})}}\\\\ _{\\text{(Eq. 4.2.3)}}$$"
      ]
    },
    {
      "cell_type": "code",
      "metadata": {
        "colab": {
          "base_uri": "https://localhost:8080/"
        },
        "id": "EFpT_POmleB7",
        "outputId": "bfcd9a7e-e0b4-4a62-f41e-feef6f5a3049"
      },
      "source": [
        "np.corrcoef(X,y)"
      ],
      "execution_count": 55,
      "outputs": [
        {
          "output_type": "execute_result",
          "data": {
            "text/plain": [
              "array([[1.        , 0.88485473],\n",
              "       [0.88485473, 1.        ]])"
            ]
          },
          "metadata": {},
          "execution_count": 55
        }
      ]
    },
    {
      "cell_type": "markdown",
      "metadata": {
        "id": "w-edqPInQngp"
      },
      "source": [
        "## 4.2 Linear Regression\n",
        "As the name suggests, linear regression tries to find the best fit straight line to a given dataset. This algorithm is one of the simplest yet most important alogorithm in regression since it is the foundation of many more complex regression techniques.\n",
        "\n",
        "The goal of this algorithm is finding a linear equation that would best describe a set of data. The equation to be used in finding that linear equation is function is given as:\n",
        "$$y = \\omega_0 + \\omega_1 X \\\\ _{\\text{Eq. 4.3}}$$\n",
        "\n",
        "Whereas $X$ is the dataset while $y$ is the corresponding values for each datapoint in $X$. The variable $\\omega$ is called the weight of the dataset consiting of $\\omega_0$ and $\\omega_1$. In other literature, $\\omega_0$ is called the bias term sometimes written as $b$. The following equations are used to solve for $\\omega_0$ and $\\omega_1$:\n",
        "$$\\omega_1 = r\\frac{\\sigma_y}{\\sigma_x}\\\\ _{\\text{Eq. 4.3.1}}$$\n",
        "$$\\omega_0 =\\bar{y}-\\omega_1\\bar{x}\\\\ _{\\text{Eq. 4.3.2}}$$"
      ]
    },
    {
      "cell_type": "code",
      "metadata": {
        "colab": {
          "base_uri": "https://localhost:8080/"
        },
        "id": "YGtgNR3CPZrW",
        "outputId": "ee4e6b4d-682c-41f0-f9c3-b94dee29aca7"
      },
      "source": [
        "## Create a dataset\n",
        "n=10\n",
        "X,y,m,b = create_corr_data(n,is_neg=False)\n",
        "w1_th = m.mean()\n",
        "w0_th = b.mean()\n",
        "## Compute for the std.dev of X and y\n",
        "std_X, std_y = np.std(X), np.std(y)\n",
        "\n",
        "## Compute for Pearson's R\n",
        "rho = np.corrcoef(X,y)[0,1]\n",
        "\n",
        "## Compute for the weights of the bias term\n",
        "w1 = rho*(std_y/std_X)\n",
        "\n",
        "## Compute for the weights of the feature\n",
        "w0 = y.mean()-w1*X.mean()\n",
        "\n",
        "print(f\"Computed w0 is {w0}, theoretical @ {w0_th}\")\n",
        "print(f\"Computed w1 is {w1}, theoretical @ {w1_th}\")\n",
        "print(f\"Equation: y = {w1} X + {w0}\")"
      ],
      "execution_count": 56,
      "outputs": [
        {
          "output_type": "stream",
          "name": "stdout",
          "text": [
            "Computed w0 is 8.984087287443748, theoretical @ 9.227125748606777\n",
            "Computed w1 is 0.2335498047581293, theoretical @ 0.2001425312336988\n",
            "Equation: y = 0.2335498047581293 X + 8.984087287443748\n"
          ]
        }
      ]
    },
    {
      "cell_type": "code",
      "metadata": {
        "colab": {
          "base_uri": "https://localhost:8080/"
        },
        "id": "HSfL2t0J8jGI",
        "outputId": "94f3b3a4-7b57-44c4-9782-8a706269ad29"
      },
      "source": [
        "X"
      ],
      "execution_count": 57,
      "outputs": [
        {
          "output_type": "execute_result",
          "data": {
            "text/plain": [
              "array([0., 1., 2., 3., 4., 5., 6., 7., 8., 9.])"
            ]
          },
          "metadata": {},
          "execution_count": 57
        }
      ]
    },
    {
      "cell_type": "code",
      "metadata": {
        "colab": {
          "base_uri": "https://localhost:8080/",
          "height": 320
        },
        "id": "og6t1wcX8RRk",
        "outputId": "160ba0e1-cd2c-46ba-9197-605a1f37679c"
      },
      "source": [
        "model = w0 + w1*X\n",
        "plt.figure(figsize=(5,5))\n",
        "plt.grid()\n",
        "plt.scatter(X,y)\n",
        "plt.plot(X, model)\n",
        "plt.show()"
      ],
      "execution_count": 58,
      "outputs": [
        {
          "output_type": "display_data",
          "data": {
            "text/plain": [
              "<Figure size 360x360 with 1 Axes>"
            ],
            "image/png": "[encoded data removed]"
          },
          "metadata": {
            "needs_background": "light"
          }
        }
      ]
    },
    {
      "cell_type": "code",
      "metadata": {
        "colab": {
          "base_uri": "https://localhost:8080/"
        },
        "id": "8G7wcmXH8v8w",
        "outputId": "10258965-3ec2-43e7-80f1-3b6d55a185f4"
      },
      "source": [
        "def predict(w0,w1,x):\n",
        "  return w0+w1*x\n",
        "predict(w0,w1,20)"
      ],
      "execution_count": 59,
      "outputs": [
        {
          "output_type": "execute_result",
          "data": {
            "text/plain": [
              "13.655083382606334"
            ]
          },
          "metadata": {},
          "execution_count": 59
        }
      ]
    },
    {
      "cell_type": "code",
      "metadata": {
        "id": "H1rY9VD-sjLe"
      },
      "source": [
        "from sklearn.linear_model import LinearRegression"
      ],
      "execution_count": 60,
      "outputs": []
    },
    {
      "cell_type": "code",
      "metadata": {
        "colab": {
          "base_uri": "https://localhost:8080/"
        },
        "id": "3DgG7g_bswg0",
        "outputId": "783746ac-6a8d-4025-e02b-ee2174806b80"
      },
      "source": [
        "model = LinearRegression()\n",
        "model.fit(X.reshape(-1,1),y.reshape(-1,1))\n",
        "print(f\"Weight of the feature is {model.coef_[0]}\")\n",
        "print(f\"Bias of the model is {model.intercept_}\")\n",
        "print(f\"Equation: y = {model.coef_[0]} X + {model.intercept_}\")"
      ],
      "execution_count": 61,
      "outputs": [
        {
          "output_type": "stream",
          "name": "stdout",
          "text": [
            "Weight of the feature is [0.2335498]\n",
            "Bias of the model is [8.98408729]\n",
            "Equation: y = [0.2335498] X + [8.98408729]\n"
          ]
        }
      ]
    },
    {
      "cell_type": "markdown",
      "metadata": {
        "id": "NigYFzkv8kxx"
      },
      "source": [
        "### Metrics\n",
        "Like any machine learning models we must determine their level of acceptance through measurements. The succeeding sections will cover on how to determine the error and accuracy of regression models"
      ]
    },
    {
      "cell_type": "markdown",
      "metadata": {
        "id": "5FXcYTDk8qrS"
      },
      "source": [
        "#### **Measures of Error**\n",
        "Error or losses are computed to determine the robustness of a model to certain dataset. There are several ways to compute the error some of them are:\n",
        "* Sum of Squares Total\n",
        "* Sum of Squares Regression\n",
        "* Sum of Squares Error\n",
        "* Mean Squared Error\n",
        "* Mean Absolute Error\n",
        "* Mean Abosulute Percentage Error"
      ]
    },
    {
      "cell_type": "markdown",
      "metadata": {
        "id": "6i7NHjfE-TqC"
      },
      "source": [
        "##### *Sum of Squares Total*\n",
        "The Sum of Squares Total or SST is a measure of the variability of dataset it is computed by:\n",
        "$$SST = \\sum_{i=0}^n(y_i-\\bar{y})^2 \\\\_\\text{Eq.4.3.3}$$"
      ]
    },
    {
      "cell_type": "code",
      "metadata": {
        "id": "fO6hdbAO-TKD"
      },
      "source": [
        "def SST(y):\n",
        "  return np.sum(np.square(y-y.mean()))"
      ],
      "execution_count": null,
      "outputs": []
    },
    {
      "cell_type": "markdown",
      "metadata": {
        "id": "oeODV2fa_3uJ"
      },
      "source": [
        "##### *Sum of Squares Regression*\n",
        "The Sum of Squares Regression or SSR is a measure of the variability of the model it is computed by:\n",
        "$$SSR = \\sum_{i=0}^n(\\hat{y_i}-\\bar{y})^2 \\\\_\\text{Eq.4.3.4}$$"
      ]
    },
    {
      "cell_type": "code",
      "metadata": {
        "id": "qLOR-J0n-fFy"
      },
      "source": [
        "def SSR(y,y_hat):\n",
        "  return np.sum(np.square(y_hat-y.mean()))"
      ],
      "execution_count": null,
      "outputs": []
    },
    {
      "cell_type": "markdown",
      "metadata": {
        "id": "VC9goqdkAUs5"
      },
      "source": [
        "##### *Sum of Squares Error*\n",
        "The Sum of Squares Regression or SSE is a measure of the variability of the model with respect to the residuals or its deviation from the ground truths, it is computed by:\n",
        "$$SSE = \\sum_{i=0}^n(\\hat{y_i}-y_i)^2 \\\\_\\text{Eq.4.3.5}$$"
      ]
    },
    {
      "cell_type": "code",
      "metadata": {
        "id": "jaaJLXVz_TzC"
      },
      "source": [
        "def SSE(y,y_hat):\n",
        "  return np.sum(np.square(y_hat-y))"
      ],
      "execution_count": null,
      "outputs": []
    },
    {
      "cell_type": "markdown",
      "metadata": {
        "id": "9XGq7UTpBRgR"
      },
      "source": [
        "##### *Mean of Squared Error*\n",
        "The Mean Squared Error or MSE the name suggests it is the mean of the squared errors or SSE. It is the average error of a model. It is computed as:\n",
        "$$MSE = \\frac{1}{n}\\sum_{i=0}^n(\\hat{y_i}-y_i)^2 \\\\_\\text{Eq.4.3.6}$$"
      ]
    },
    {
      "cell_type": "code",
      "metadata": {
        "id": "MbU9LLTwAcXC"
      },
      "source": [
        "def MSE(y,y_hat):\n",
        "  return np.mean(np.square(y_hat-y))"
      ],
      "execution_count": null,
      "outputs": []
    },
    {
      "cell_type": "markdown",
      "metadata": {
        "id": "y8MhMECmB3s5"
      },
      "source": [
        "##### *Mean of Absolute Error*\n",
        "The Mean Absolute Error or MAE, is another error measurement between the model and the ground truths but uses the Manhattan distance instead of the Euclidean distance from SSE.\n",
        "$$MAE = \\frac{1}{n}\\sum_{i=0}^n|\\hat{y_i}-y_i| \\\\_\\text{Eq.4.3.7}$$"
      ]
    },
    {
      "cell_type": "code",
      "metadata": {
        "id": "PvBUHM9-BuHz"
      },
      "source": [
        "def MAE(y,y_hat):\n",
        "  return np.mean(np.abs(y_hat-y))"
      ],
      "execution_count": null,
      "outputs": []
    },
    {
      "cell_type": "markdown",
      "metadata": {
        "id": "wtxZTA_HCk8J"
      },
      "source": [
        "##### *Mean of Absolute Percentage Error*\n",
        "The Mean Absolute Percentage Error or MAPE, is another error measurement derived from MAE but this time the error normalized. It is computed as:\n",
        "$$MAPE = \\frac{100\\%}{n}\\sum_{i=0}^n|\\frac{\\hat{y_i}-y_i}{y_i}| \\\\_\\text{Eq.4.3.8}$$"
      ]
    },
    {
      "cell_type": "code",
      "metadata": {
        "id": "WtnOqag8CY8x"
      },
      "source": [
        "def MAPE(y,y_hat):\n",
        "  return 100*np.mean(np.abs((y_hat-y)/y))"
      ],
      "execution_count": null,
      "outputs": []
    },
    {
      "cell_type": "markdown",
      "metadata": {
        "id": "HY_cEapgDR3a"
      },
      "source": [
        "##### *Root Mean Squared Error*\n",
        "The Root Mean Squared Error or RMSE, is the root of the RMSE which brings it back to its actual unit. It is computed as:\n",
        "$$RMSE = \\sqrt{\\frac{1}{n}\\sum_{i=0}^n(\\hat{y_i}-y_i)^2} \\\\_\\text{Eq.4.3.9}$$"
      ]
    },
    {
      "cell_type": "markdown",
      "metadata": {
        "id": "lr88swia8uQR"
      },
      "source": [
        "#### Measures Accuracy\n",
        "We measure the accuracy of the regression through its explainability. We measure it through the R-squared or the Adjusted R-squared."
      ]
    },
    {
      "cell_type": "markdown",
      "metadata": {
        "id": "928QePzBD-GC"
      },
      "source": [
        "#### *R-squared*\n",
        "The R-squared is a statistical measurement also known as the coefficient of determination wherein it shows the explanatory power of the variables used in the model. It is computed by:\n",
        "\n",
        "$$R^2 = 1 - \\frac{SSE}{SST}\\\\_\\text{Eq.4.3.10}$$\n"
      ]
    },
    {
      "cell_type": "markdown",
      "metadata": {
        "id": "LDscohAmFr75"
      },
      "source": [
        "#### *Adjusted R-squared*\n",
        "The Adjusted R-squared is another statistical measurement for detemrinign the explanatory power of a model. Unlike, R-squared it is adjusted accordingly to the total datapoints and the features involved in the computation. It is computed by:\n",
        "\n",
        "$$Adj. R^2 = 1 - \\frac{SSE}{SST}\\cdot \\frac{n-1}{n-k-1} = 1 - \\frac{(1-R^2)(n-1)}{n-k-1}\\\\_\\text{Eq.4.3.10}$$\n",
        "\n",
        "Whereas $n$ is the total number of datapoints in the dataset and $k$ is the total number of features to be used in the regression."
      ]
    },
    {
      "cell_type": "markdown",
      "metadata": {
        "id": "Ic07c675j3nr"
      },
      "source": [
        "## 4.3 Least Squares\n",
        "The least squares method is an optimization alogrithm in finding the best fit line for a given dataset. Just like with any numerical technique it utilizes iterations to mimimize the error.\n"
      ]
    },
    {
      "cell_type": "markdown",
      "metadata": {
        "id": "uCWxTwZRoliq"
      },
      "source": [
        "### 4.3.1 Iteration Method\n",
        "The main idea of the iteration method is to iteratively fit a line to the dataset. We tend to guess iteratively whether the line we are fitting is right. With this we can call the line the we are going to fit as the hypothesis or $h_\\theta$ we can then compute the $h_\\theta$ for this linear regression problem as:\n",
        "$$h_\\theta = \\theta X+b \\\\_\\text{Eq.4.4.1}$$\n",
        "Whereas $X$ is the feature vector, $b$ is the bias vector, and $\\theta$ is the weight vector  of the features. We then determine whether our hypothesis is correct by determining its error. Its error is determined by the Sum of Squared Error or SSE. We compute the SSE as the sum of the distances of each hypothesis $h_\\theta$ to the target $y$. We denote the SSE as the loss function of this optimization problem, we denote it as $J(\\theta)$.\n",
        "$$J(\\theta) =  \\sum(h_\\theta - y)^2\\\\_\\text{Eq.4.4.2}$$\n",
        "We then delare the optimization goal for this problem as to minimize the loss function:\n",
        "$$\\min(J)\\\\_\\text{Eq.4.4.3}$$"
      ]
    },
    {
      "cell_type": "code",
      "metadata": {
        "id": "d2DRFpdPnqxx"
      },
      "source": [
        "## Create a Dataset\n",
        "n=30\n",
        "X,y,_,_ = create_corr_data(n,is_neg=False)"
      ],
      "execution_count": 62,
      "outputs": []
    },
    {
      "cell_type": "code",
      "metadata": {
        "colab": {
          "base_uri": "https://localhost:8080/",
          "height": 338
        },
        "id": "vIJuX50Fseir",
        "outputId": "679f8ce8-6caa-4f75-cb98-03717f5d4cee"
      },
      "source": [
        "plt.figure(figsize=(5,5))\n",
        "plt.grid()\n",
        "plt.scatter(X,y)"
      ],
      "execution_count": 63,
      "outputs": [
        {
          "output_type": "execute_result",
          "data": {
            "text/plain": [
              "<matplotlib.collections.PathCollection at 0x7fd0c75e2510>"
            ]
          },
          "metadata": {},
          "execution_count": 63
        },
        {
          "output_type": "display_data",
          "data": {
            "text/plain": [
              "<Figure size 360x360 with 1 Axes>"
            ],
            "image/png": "[encoded data removed]"
          },
          "metadata": {
            "needs_background": "light"
          }
        }
      ]
    },
    {
      "cell_type": "code",
      "metadata": {
        "id": "AjODWrXFvZ8p"
      },
      "source": [
        "## Modelling optimization routine using first iteration\n",
        "## initialize optimization variables\n",
        "def init_linear_reg(X,y):\n",
        "  theta = 0 ##angle is 0\n",
        "  b = 8.6\n",
        "  h = theta*X + b\n",
        "  return theta,b, h\n",
        "theta, b, h = init_linear_reg(X,y)"
      ],
      "execution_count": 64,
      "outputs": []
    },
    {
      "cell_type": "code",
      "metadata": {
        "colab": {
          "base_uri": "https://localhost:8080/"
        },
        "id": "IBfyeqwxvv2U",
        "outputId": "da7e2b5e-1e66-408b-a55c-21a2714d35d4"
      },
      "source": [
        "def SSE(h,y):\n",
        "  return np.sum(np.square(h-y))\n",
        "J = SSE(h,y)\n",
        "J"
      ],
      "execution_count": 65,
      "outputs": [
        {
          "output_type": "execute_result",
          "data": {
            "text/plain": [
              "529.5999101186297"
            ]
          },
          "metadata": {},
          "execution_count": 65
        }
      ]
    },
    {
      "cell_type": "code",
      "metadata": {
        "colab": {
          "base_uri": "https://localhost:8080/",
          "height": 351
        },
        "id": "nvobahcQwAvp",
        "outputId": "a97bc855-0062-458c-80f6-e597ad72f80f"
      },
      "source": [
        "def disp_hypothesis(X,y,h,loss,iter):\n",
        "  plt.figure(figsize=(5,5))\n",
        "  plt.title(f\"Least Squares \\n Iteration: {iter} | Loss @ {round(loss,3)}\")\n",
        "  plt.grid()\n",
        "  plt.scatter(X,y)\n",
        "  plt.plot(h, color='red', label='hypothesis')\n",
        "  plt.legend()\n",
        "  plt.show()\n",
        "disp_hypothesis(X,y,h,J,0)"
      ],
      "execution_count": 66,
      "outputs": [
        {
          "output_type": "display_data",
          "data": {
            "text/plain": [
              "<Figure size 360x360 with 1 Axes>"
            ],
            "image/png": "[encoded data removed]"
          },
          "metadata": {
            "needs_background": "light"
          }
        }
      ]
    },
    {
      "cell_type": "code",
      "metadata": {
        "id": "8YCBalUQwHr6"
      },
      "source": [
        "## Design the optimization iterations\n",
        "### set the range and steps\n",
        "min, max = -100, 100\n",
        "steps = 1\n",
        "iters = np.arange(min,max+steps,steps)\n",
        "\n",
        "### do a sanity check for the loop\n",
        "# for iter in iters:\n",
        "#   print(iter)"
      ],
      "execution_count": 67,
      "outputs": []
    },
    {
      "cell_type": "code",
      "metadata": {
        "id": "E_OPB4gTxkZb",
        "colab": {
          "base_uri": "https://localhost:8080/"
        },
        "outputId": "6959bb71-51b4-4899-953f-c6db9e72e311"
      },
      "source": [
        "## initialize the optimization routing\n",
        "print(\"[INFO] Initializing Linear Regression parameters...\")\n",
        "theta, b, h = init_linear_reg(X,y)\n",
        "print(\"[INFO] Initialization done!\")\n",
        "\n",
        "## create logs for optimization backtracking\n",
        "history = {\n",
        "    'epoch': [],\n",
        "    'theta': [],\n",
        "    'model': [],\n",
        "    'loss': []\n",
        "}\n",
        "print(\"[INFO] Starting optimzation...\")\n",
        "for iter in iters:\n",
        "  ## set the angle as the normalized ratio of the iter to max\n",
        "  theta = iter/max\n",
        "  ## compute for the hypothesis\n",
        "  h = theta*X + b\n",
        "  ## compute for the loss\n",
        "  J = SSE(h,y)\n",
        "\n",
        "  ## log the changes\n",
        "  history['epoch'].append(iter)\n",
        "  history['theta'].append(theta)\n",
        "  history['model'].append(h)\n",
        "  history['loss'].append(J)\n",
        "  print(f\"[INFO] Epoch {iter} | Loss: {J}\")"
      ],
      "execution_count": 68,
      "outputs": [
        {
          "output_type": "stream",
          "name": "stdout",
          "text": [
            "[INFO] Initializing Linear Regression parameters...\n",
            "[INFO] Initialization done!\n",
            "[INFO] Starting optimzation...\n",
            "[INFO] Epoch -100 | Loss: 13202.24515734094\n",
            "[INFO] Epoch -99 | Loss: 12990.824204868717\n",
            "[INFO] Epoch -98 | Loss: 12781.114252396495\n",
            "[INFO] Epoch -97 | Loss: 12573.115299924271\n",
            "[INFO] Epoch -96 | Loss: 12366.827347452048\n",
            "[INFO] Epoch -95 | Loss: 12162.250394979825\n",
            "[INFO] Epoch -94 | Loss: 11959.384442507599\n",
            "[INFO] Epoch -93 | Loss: 11758.22949003538\n",
            "[INFO] Epoch -92 | Loss: 11558.785537563159\n",
            "[INFO] Epoch -91 | Loss: 11361.052585090933\n",
            "[INFO] Epoch -90 | Loss: 11165.03063261871\n",
            "[INFO] Epoch -89 | Loss: 10970.719680146489\n",
            "[INFO] Epoch -88 | Loss: 10778.119727674262\n",
            "[INFO] Epoch -87 | Loss: 10587.23077520204\n",
            "[INFO] Epoch -86 | Loss: 10398.052822729816\n",
            "[INFO] Epoch -85 | Loss: 10210.585870257592\n",
            "[INFO] Epoch -84 | Loss: 10024.82991778537\n",
            "[INFO] Epoch -83 | Loss: 9840.784965313147\n",
            "[INFO] Epoch -82 | Loss: 9658.451012840924\n",
            "[INFO] Epoch -81 | Loss: 9477.828060368702\n",
            "[INFO] Epoch -80 | Loss: 9298.916107896479\n",
            "[INFO] Epoch -79 | Loss: 9121.715155424255\n",
            "[INFO] Epoch -78 | Loss: 8946.225202952033\n",
            "[INFO] Epoch -77 | Loss: 8772.44625047981\n",
            "[INFO] Epoch -76 | Loss: 8600.378298007587\n",
            "[INFO] Epoch -75 | Loss: 8430.021345535362\n",
            "[INFO] Epoch -74 | Loss: 8261.37539306314\n",
            "[INFO] Epoch -73 | Loss: 8094.440440590916\n",
            "[INFO] Epoch -72 | Loss: 7929.216488118694\n",
            "[INFO] Epoch -71 | Loss: 7765.70353564647\n",
            "[INFO] Epoch -70 | Loss: 7603.901583174245\n",
            "[INFO] Epoch -69 | Loss: 7443.8106307020225\n",
            "[INFO] Epoch -68 | Loss: 7285.430678229802\n",
            "[INFO] Epoch -67 | Loss: 7128.761725757578\n",
            "[INFO] Epoch -66 | Loss: 6973.803773285355\n",
            "[INFO] Epoch -65 | Loss: 6820.556820813132\n",
            "[INFO] Epoch -64 | Loss: 6669.020868340909\n",
            "[INFO] Epoch -63 | Loss: 6519.195915868687\n",
            "[INFO] Epoch -62 | Loss: 6371.081963396463\n",
            "[INFO] Epoch -61 | Loss: 6224.679010924239\n",
            "[INFO] Epoch -60 | Loss: 6079.987058452016\n",
            "[INFO] Epoch -59 | Loss: 5937.006105979793\n",
            "[INFO] Epoch -58 | Loss: 5795.736153507569\n",
            "[INFO] Epoch -57 | Loss: 5656.177201035346\n",
            "[INFO] Epoch -56 | Loss: 5518.329248563125\n",
            "[INFO] Epoch -55 | Loss: 5382.192296090901\n",
            "[INFO] Epoch -54 | Loss: 5247.766343618679\n",
            "[INFO] Epoch -53 | Loss: 5115.051391146455\n",
            "[INFO] Epoch -52 | Loss: 4984.047438674233\n",
            "[INFO] Epoch -51 | Loss: 4854.754486202008\n",
            "[INFO] Epoch -50 | Loss: 4727.172533729785\n",
            "[INFO] Epoch -49 | Loss: 4601.30158125756\n",
            "[INFO] Epoch -48 | Loss: 4477.141628785339\n",
            "[INFO] Epoch -47 | Loss: 4354.692676313115\n",
            "[INFO] Epoch -46 | Loss: 4233.954723840892\n",
            "[INFO] Epoch -45 | Loss: 4114.92777136867\n",
            "[INFO] Epoch -44 | Loss: 3997.6118188964465\n",
            "[INFO] Epoch -43 | Loss: 3882.0068664242235\n",
            "[INFO] Epoch -42 | Loss: 3768.112913952\n",
            "[INFO] Epoch -41 | Loss: 3655.929961479777\n",
            "[INFO] Epoch -40 | Loss: 3545.458009007554\n",
            "[INFO] Epoch -39 | Loss: 3436.6970565353304\n",
            "[INFO] Epoch -38 | Loss: 3329.647104063108\n",
            "[INFO] Epoch -37 | Loss: 3224.308151590885\n",
            "[INFO] Epoch -36 | Loss: 3120.6801991186617\n",
            "[INFO] Epoch -35 | Loss: 3018.7632466464383\n",
            "[INFO] Epoch -34 | Loss: 2918.5572941742157\n",
            "[INFO] Epoch -33 | Loss: 2820.062341701993\n",
            "[INFO] Epoch -32 | Loss: 2723.278389229769\n",
            "[INFO] Epoch -31 | Loss: 2628.2054367575456\n",
            "[INFO] Epoch -30 | Loss: 2534.843484285323\n",
            "[INFO] Epoch -29 | Loss: 2443.1925318131\n",
            "[INFO] Epoch -28 | Loss: 2353.2525793408768\n",
            "[INFO] Epoch -27 | Loss: 2265.0236268686535\n",
            "[INFO] Epoch -26 | Loss: 2178.505674396431\n",
            "[INFO] Epoch -25 | Loss: 2093.6987219242073\n",
            "[INFO] Epoch -24 | Loss: 2010.6027694519842\n",
            "[INFO] Epoch -23 | Loss: 1929.2178169797612\n",
            "[INFO] Epoch -22 | Loss: 1849.5438645075383\n",
            "[INFO] Epoch -21 | Loss: 1771.580912035315\n",
            "[INFO] Epoch -20 | Loss: 1695.328959563092\n",
            "[INFO] Epoch -19 | Loss: 1620.7880070908689\n",
            "[INFO] Epoch -18 | Loss: 1547.9580546186457\n",
            "[INFO] Epoch -17 | Loss: 1476.8391021464229\n",
            "[INFO] Epoch -16 | Loss: 1407.4311496741996\n",
            "[INFO] Epoch -15 | Loss: 1339.7341972019763\n",
            "[INFO] Epoch -14 | Loss: 1273.7482447297534\n",
            "[INFO] Epoch -13 | Loss: 1209.4732922575301\n",
            "[INFO] Epoch -12 | Loss: 1146.909339785307\n",
            "[INFO] Epoch -11 | Loss: 1086.056387313084\n",
            "[INFO] Epoch -10 | Loss: 1026.9144348408608\n",
            "[INFO] Epoch -9 | Loss: 969.4834823686379\n",
            "[INFO] Epoch -8 | Loss: 913.7635298964146\n",
            "[INFO] Epoch -7 | Loss: 859.7545774241916\n",
            "[INFO] Epoch -6 | Loss: 807.4566249519685\n",
            "[INFO] Epoch -5 | Loss: 756.8696724797453\n",
            "[INFO] Epoch -4 | Loss: 707.9937200075224\n",
            "[INFO] Epoch -3 | Loss: 660.8287675352991\n",
            "[INFO] Epoch -2 | Loss: 615.374815063076\n",
            "[INFO] Epoch -1 | Loss: 571.6318625908527\n",
            "[INFO] Epoch 0 | Loss: 529.5999101186297\n",
            "[INFO] Epoch 1 | Loss: 489.27895764640664\n",
            "[INFO] Epoch 2 | Loss: 450.6690051741835\n",
            "[INFO] Epoch 3 | Loss: 413.7700527019604\n",
            "[INFO] Epoch 4 | Loss: 378.58210022973736\n",
            "[INFO] Epoch 5 | Loss: 345.1051477575142\n",
            "[INFO] Epoch 6 | Loss: 313.3391952852911\n",
            "[INFO] Epoch 7 | Loss: 283.28424281306803\n",
            "[INFO] Epoch 8 | Loss: 254.9402903408449\n",
            "[INFO] Epoch 9 | Loss: 228.30733786862186\n",
            "[INFO] Epoch 10 | Loss: 203.38538539639868\n",
            "[INFO] Epoch 11 | Loss: 180.17443292417562\n",
            "[INFO] Epoch 12 | Loss: 158.67448045195252\n",
            "[INFO] Epoch 13 | Loss: 138.88552797972935\n",
            "[INFO] Epoch 14 | Loss: 120.80757550750626\n",
            "[INFO] Epoch 15 | Loss: 104.44062303528317\n",
            "[INFO] Epoch 16 | Loss: 89.78467056306006\n",
            "[INFO] Epoch 17 | Loss: 76.83971809083694\n",
            "[INFO] Epoch 18 | Loss: 65.60576561861384\n",
            "[INFO] Epoch 19 | Loss: 56.08281314639075\n",
            "[INFO] Epoch 20 | Loss: 48.27086067416762\n",
            "[INFO] Epoch 21 | Loss: 42.16990820194454\n",
            "[INFO] Epoch 22 | Loss: 37.77995572972142\n",
            "[INFO] Epoch 23 | Loss: 35.101003257498334\n",
            "[INFO] Epoch 24 | Loss: 34.133050785275216\n",
            "[INFO] Epoch 25 | Loss: 34.876098313052104\n",
            "[INFO] Epoch 26 | Loss: 37.330145840829\n",
            "[INFO] Epoch 27 | Loss: 41.4951933686059\n",
            "[INFO] Epoch 28 | Loss: 47.37124089638281\n",
            "[INFO] Epoch 29 | Loss: 54.95828842415967\n",
            "[INFO] Epoch 30 | Loss: 64.25633595193658\n",
            "[INFO] Epoch 31 | Loss: 75.26538347971349\n",
            "[INFO] Epoch 32 | Loss: 87.9854310074904\n",
            "[INFO] Epoch 33 | Loss: 102.41647853526729\n",
            "[INFO] Epoch 34 | Loss: 118.55852606304418\n",
            "[INFO] Epoch 35 | Loss: 136.41157359082098\n",
            "[INFO] Epoch 36 | Loss: 155.97562111859793\n",
            "[INFO] Epoch 37 | Loss: 177.25066864637483\n",
            "[INFO] Epoch 38 | Loss: 200.23671617415172\n",
            "[INFO] Epoch 39 | Loss: 224.93376370192865\n",
            "[INFO] Epoch 40 | Loss: 251.34181122970566\n",
            "[INFO] Epoch 41 | Loss: 279.4608587574824\n",
            "[INFO] Epoch 42 | Loss: 309.29090628525927\n",
            "[INFO] Epoch 43 | Loss: 340.8319538130363\n",
            "[INFO] Epoch 44 | Loss: 374.0840013408131\n",
            "[INFO] Epoch 45 | Loss: 409.04704886858997\n",
            "[INFO] Epoch 46 | Loss: 445.721096396367\n",
            "[INFO] Epoch 47 | Loss: 484.1061439241436\n",
            "[INFO] Epoch 48 | Loss: 524.2021914519206\n",
            "[INFO] Epoch 49 | Loss: 566.0092389796976\n",
            "[INFO] Epoch 50 | Loss: 609.5272865074747\n",
            "[INFO] Epoch 51 | Loss: 654.7563340352515\n",
            "[INFO] Epoch 52 | Loss: 701.6963815630284\n",
            "[INFO] Epoch 53 | Loss: 750.3474290908052\n",
            "[INFO] Epoch 54 | Loss: 800.7094766185822\n",
            "[INFO] Epoch 55 | Loss: 852.7825241463592\n",
            "[INFO] Epoch 56 | Loss: 906.5665716741362\n",
            "[INFO] Epoch 57 | Loss: 962.0616192019127\n",
            "[INFO] Epoch 58 | Loss: 1019.2676667296895\n",
            "[INFO] Epoch 59 | Loss: 1078.1847142574663\n",
            "[INFO] Epoch 60 | Loss: 1138.8127617852433\n",
            "[INFO] Epoch 61 | Loss: 1201.1518093130205\n",
            "[INFO] Epoch 62 | Loss: 1265.201856840797\n",
            "[INFO] Epoch 63 | Loss: 1330.962904368574\n",
            "[INFO] Epoch 64 | Loss: 1398.4349518963509\n",
            "[INFO] Epoch 65 | Loss: 1467.617999424128\n",
            "[INFO] Epoch 66 | Loss: 1538.5120469519047\n",
            "[INFO] Epoch 67 | Loss: 1611.1170944796818\n",
            "[INFO] Epoch 68 | Loss: 1685.433142007459\n",
            "[INFO] Epoch 69 | Loss: 1761.4601895352353\n",
            "[INFO] Epoch 70 | Loss: 1839.1982370630121\n",
            "[INFO] Epoch 71 | Loss: 1918.6472845907888\n",
            "[INFO] Epoch 72 | Loss: 1999.8073321185661\n",
            "[INFO] Epoch 73 | Loss: 2082.678379646343\n",
            "[INFO] Epoch 74 | Loss: 2167.2604271741197\n",
            "[INFO] Epoch 75 | Loss: 2253.5534747018974\n",
            "[INFO] Epoch 76 | Loss: 2341.557522229674\n",
            "[INFO] Epoch 77 | Loss: 2431.2725697574506\n",
            "[INFO] Epoch 78 | Loss: 2522.698617285228\n",
            "[INFO] Epoch 79 | Loss: 2615.8356648130043\n",
            "[INFO] Epoch 80 | Loss: 2710.6837123407818\n",
            "[INFO] Epoch 81 | Loss: 2807.242759868559\n",
            "[INFO] Epoch 82 | Loss: 2905.5128073963347\n",
            "[INFO] Epoch 83 | Loss: 3005.4938549241115\n",
            "[INFO] Epoch 84 | Loss: 3107.185902451888\n",
            "[INFO] Epoch 85 | Loss: 3210.588949979666\n",
            "[INFO] Epoch 86 | Loss: 3315.7029975074424\n",
            "[INFO] Epoch 87 | Loss: 3422.528045035219\n",
            "[INFO] Epoch 88 | Loss: 3531.064092562997\n",
            "[INFO] Epoch 89 | Loss: 3641.3111400907737\n",
            "[INFO] Epoch 90 | Loss: 3753.2691876185504\n",
            "[INFO] Epoch 91 | Loss: 3866.9382351463273\n",
            "[INFO] Epoch 92 | Loss: 3982.3182826741045\n",
            "[INFO] Epoch 93 | Loss: 4099.409330201882\n",
            "[INFO] Epoch 94 | Loss: 4218.211377729657\n",
            "[INFO] Epoch 95 | Loss: 4338.724425257434\n",
            "[INFO] Epoch 96 | Loss: 4460.948472785211\n",
            "[INFO] Epoch 97 | Loss: 4584.883520312989\n",
            "[INFO] Epoch 98 | Loss: 4710.529567840766\n",
            "[INFO] Epoch 99 | Loss: 4837.886615368541\n",
            "[INFO] Epoch 100 | Loss: 4966.95466289632\n"
          ]
        }
      ]
    },
    {
      "cell_type": "code",
      "metadata": {
        "colab": {
          "base_uri": "https://localhost:8080/",
          "height": 423
        },
        "id": "K_0_zTUW1C-c",
        "outputId": "89ce66dd-1673-4e1f-8289-a70631adb6aa"
      },
      "source": [
        "hists_df = pd.DataFrame(history)\n",
        "hists_df"
      ],
      "execution_count": 69,
      "outputs": [
        {
          "output_type": "execute_result",
          "data": {
            "text/plain": [
              "     epoch  theta                                              model  \\\n",
              "0     -100  -1.00  [8.6, 7.6, 6.6, 5.6, 4.6, 3.5999999999999996, ...   \n",
              "1      -99  -0.99  [8.6, 7.609999999999999, 6.619999999999999, 5....   \n",
              "2      -98  -0.98  [8.6, 7.619999999999999, 6.64, 5.66, 4.68, 3.6...   \n",
              "3      -97  -0.97  [8.6, 7.63, 6.66, 5.6899999999999995, 4.72, 3....   \n",
              "4      -96  -0.96  [8.6, 7.64, 6.68, 5.72, 4.76, 3.8, 2.84, 1.88,...   \n",
              "..     ...    ...                                                ...   \n",
              "196     96   0.96  [8.6, 9.559999999999999, 10.52, 11.48, 12.44, ...   \n",
              "197     97   0.97  [8.6, 9.57, 10.54, 11.51, 12.48, 13.45, 14.42,...   \n",
              "198     98   0.98  [8.6, 9.58, 10.559999999999999, 11.54, 12.52, ...   \n",
              "199     99   0.99  [8.6, 9.59, 10.58, 11.57, 12.559999999999999, ...   \n",
              "200    100   1.00  [8.6, 9.6, 10.6, 11.6, 12.6, 13.6, 14.6, 15.6,...   \n",
              "\n",
              "             loss  \n",
              "0    13202.245157  \n",
              "1    12990.824205  \n",
              "2    12781.114252  \n",
              "3    12573.115300  \n",
              "4    12366.827347  \n",
              "..            ...  \n",
              "196   4460.948473  \n",
              "197   4584.883520  \n",
              "198   4710.529568  \n",
              "199   4837.886615  \n",
              "200   4966.954663  \n",
              "\n",
              "[201 rows x 4 columns]"
            ],
            "text/html": [
              "\n",
              "  <div id=\"df-0d7e65c6-9686-4f84-b55a-d6b4b764037a\">\n",
              "    <div class=\"colab-df-container\">\n",
              "      <div>\n",
              "<style scoped>\n",
              "    .dataframe tbody tr th:only-of-type {\n",
              "        vertical-align: middle;\n",
              "    }\n",
              "\n",
              "    .dataframe tbody tr th {\n",
              "        vertical-align: top;\n",
              "    }\n",
              "\n",
              "    .dataframe thead th {\n",
              "        text-align: right;\n",
              "    }\n",
              "</style>\n",
              "<table border=\"1\" class=\"dataframe\">\n",
              "  <thead>\n",
              "    <tr style=\"text-align: right;\">\n",
              "      <th></th>\n",
              "      <th>epoch</th>\n",
              "      <th>theta</th>\n",
              "      <th>model</th>\n",
              "      <th>loss</th>\n",
              "    </tr>\n",
              "  </thead>\n",
              "  <tbody>\n",
              "    <tr>\n",
              "      <th>0</th>\n",
              "      <td>-100</td>\n",
              "      <td>-1.00</td>\n",
              "      <td>[8.6, 7.6, 6.6, 5.6, 4.6, 3.5999999999999996, ...</td>\n",
              "      <td>13202.245157</td>\n",
              "    </tr>\n",
              "    <tr>\n",
              "      <th>1</th>\n",
              "      <td>-99</td>\n",
              "      <td>-0.99</td>\n",
              "      <td>[8.6, 7.609999999999999, 6.619999999999999, 5....</td>\n",
              "      <td>12990.824205</td>\n",
              "    </tr>\n",
              "    <tr>\n",
              "      <th>2</th>\n",
              "      <td>-98</td>\n",
              "      <td>-0.98</td>\n",
              "      <td>[8.6, 7.619999999999999, 6.64, 5.66, 4.68, 3.6...</td>\n",
              "      <td>12781.114252</td>\n",
              "    </tr>\n",
              "    <tr>\n",
              "      <th>3</th>\n",
              "      <td>-97</td>\n",
              "      <td>-0.97</td>\n",
              "      <td>[8.6, 7.63, 6.66, 5.6899999999999995, 4.72, 3....</td>\n",
              "      <td>12573.115300</td>\n",
              "    </tr>\n",
              "    <tr>\n",
              "      <th>4</th>\n",
              "      <td>-96</td>\n",
              "      <td>-0.96</td>\n",
              "      <td>[8.6, 7.64, 6.68, 5.72, 4.76, 3.8, 2.84, 1.88,...</td>\n",
              "      <td>12366.827347</td>\n",
              "    </tr>\n",
              "    <tr>\n",
              "      <th>...</th>\n",
              "      <td>...</td>\n",
              "      <td>...</td>\n",
              "      <td>...</td>\n",
              "      <td>...</td>\n",
              "    </tr>\n",
              "    <tr>\n",
              "      <th>196</th>\n",
              "      <td>96</td>\n",
              "      <td>0.96</td>\n",
              "      <td>[8.6, 9.559999999999999, 10.52, 11.48, 12.44, ...</td>\n",
              "      <td>4460.948473</td>\n",
              "    </tr>\n",
              "    <tr>\n",
              "      <th>197</th>\n",
              "      <td>97</td>\n",
              "      <td>0.97</td>\n",
              "      <td>[8.6, 9.57, 10.54, 11.51, 12.48, 13.45, 14.42,...</td>\n",
              "      <td>4584.883520</td>\n",
              "    </tr>\n",
              "    <tr>\n",
              "      <th>198</th>\n",
              "      <td>98</td>\n",
              "      <td>0.98</td>\n",
              "      <td>[8.6, 9.58, 10.559999999999999, 11.54, 12.52, ...</td>\n",
              "      <td>4710.529568</td>\n",
              "    </tr>\n",
              "    <tr>\n",
              "      <th>199</th>\n",
              "      <td>99</td>\n",
              "      <td>0.99</td>\n",
              "      <td>[8.6, 9.59, 10.58, 11.57, 12.559999999999999, ...</td>\n",
              "      <td>4837.886615</td>\n",
              "    </tr>\n",
              "    <tr>\n",
              "      <th>200</th>\n",
              "      <td>100</td>\n",
              "      <td>1.00</td>\n",
              "      <td>[8.6, 9.6, 10.6, 11.6, 12.6, 13.6, 14.6, 15.6,...</td>\n",
              "      <td>4966.954663</td>\n",
              "    </tr>\n",
              "  </tbody>\n",
              "</table>\n",
              "<p>201 rows × 4 columns</p>\n",
              "</div>\n",
              "      <button class=\"colab-df-convert\" onclick=\"convertToInteractive('df-0d7e65c6-9686-4f84-b55a-d6b4b764037a')\"\n",
              "              title=\"Convert this dataframe to an interactive table.\"\n",
              "              style=\"display:none;\">\n",
              "        \n",
              "  <svg xmlns=\"http://www.w3.org/2000/svg\" height=\"24px\"viewBox=\"0 0 24 24\"\n",
              "       width=\"24px\">\n",
              "    <path d=\"M0 0h24v24H0V0z\" fill=\"none\"/>\n",
              "    <path d=\"M18.56 5.44l.94 2.06.94-2.06 2.06-.94-2.06-.94-.94-2.06-.94 2.06-2.06.94zm-11 1L8.5 8.5l.94-2.06 2.06-.94-2.06-.94L8.5 2.5l-.94 2.06-2.06.94zm10 10l.94 2.06.94-2.06 2.06-.94-2.06-.94-.94-2.06-.94 2.06-2.06.94z\"/><path d=\"M17.41 7.96l-1.37-1.37c-.4-.4-.92-.59-1.43-.59-.52 0-1.04.2-1.43.59L10.3 9.45l-7.72 7.72c-.78.78-.78 2.05 0 2.83L4 21.41c.39.39.9.59 1.41.59.51 0 1.02-.2 1.41-.59l7.78-7.78 2.81-2.81c.8-.78.8-2.07 0-2.86zM5.41 20L4 18.59l7.72-7.72 1.47 1.35L5.41 20z\"/>\n",
              "  </svg>\n",
              "      </button>\n",
              "      \n",
              "  <style>\n",
              "    .colab-df-container {\n",
              "      display:flex;\n",
              "      flex-wrap:wrap;\n",
              "      gap: 12px;\n",
              "    }\n",
              "\n",
              "    .colab-df-convert {\n",
              "      background-color: #E8F0FE;\n",
              "      border: none;\n",
              "      border-radius: 50%;\n",
              "      cursor: pointer;\n",
              "      display: none;\n",
              "      fill: #1967D2;\n",
              "      height: 32px;\n",
              "      padding: 0 0 0 0;\n",
              "      width: 32px;\n",
              "    }\n",
              "\n",
              "    .colab-df-convert:hover {\n",
              "      background-color: #E2EBFA;\n",
              "      box-shadow: 0px 1px 2px rgba(60, 64, 67, 0.3), 0px 1px 3px 1px rgba(60, 64, 67, 0.15);\n",
              "      fill: #174EA6;\n",
              "    }\n",
              "\n",
              "    [theme=dark] .colab-df-convert {\n",
              "      background-color: #3B4455;\n",
              "      fill: #D2E3FC;\n",
              "    }\n",
              "\n",
              "    [theme=dark] .colab-df-convert:hover {\n",
              "      background-color: #434B5C;\n",
              "      box-shadow: 0px 1px 3px 1px rgba(0, 0, 0, 0.15);\n",
              "      filter: drop-shadow(0px 1px 2px rgba(0, 0, 0, 0.3));\n",
              "      fill: #FFFFFF;\n",
              "    }\n",
              "  </style>\n",
              "\n",
              "      <script>\n",
              "        const buttonEl =\n",
              "          document.querySelector('#df-0d7e65c6-9686-4f84-b55a-d6b4b764037a button.colab-df-convert');\n",
              "        buttonEl.style.display =\n",
              "          google.colab.kernel.accessAllowed ? 'block' : 'none';\n",
              "\n",
              "        async function convertToInteractive(key) {\n",
              "          const element = document.querySelector('#df-0d7e65c6-9686-4f84-b55a-d6b4b764037a');\n",
              "          const dataTable =\n",
              "            await google.colab.kernel.invokeFunction('convertToInteractive',\n",
              "                                                     [key], {});\n",
              "          if (!dataTable) return;\n",
              "\n",
              "          const docLinkHtml = 'Like what you see? Visit the ' +\n",
              "            '<a target=\"_blank\" href=https://colab.research.google.com/notebooks/data_table.ipynb>data table notebook</a>'\n",
              "            + ' to learn more about interactive tables.';\n",
              "          element.innerHTML = '';\n",
              "          dataTable['output_type'] = 'display_data';\n",
              "          await google.colab.output.renderOutput(dataTable, element);\n",
              "          const docLink = document.createElement('div');\n",
              "          docLink.innerHTML = docLinkHtml;\n",
              "          element.appendChild(docLink);\n",
              "        }\n",
              "      </script>\n",
              "    </div>\n",
              "  </div>\n",
              "  "
            ]
          },
          "metadata": {},
          "execution_count": 69
        }
      ]
    },
    {
      "cell_type": "code",
      "metadata": {
        "colab": {
          "base_uri": "https://localhost:8080/",
          "height": 297
        },
        "id": "oDTYnA361Wb7",
        "outputId": "854409d0-598d-4cbe-c8d8-1a52cde22907"
      },
      "source": [
        "plt.plot(hists_df['theta'], hists_df['loss'])\n",
        "plt.xlabel('Theta')\n",
        "plt.ylabel('Loss')"
      ],
      "execution_count": 70,
      "outputs": [
        {
          "output_type": "execute_result",
          "data": {
            "text/plain": [
              "Text(0, 0.5, 'Loss')"
            ]
          },
          "metadata": {},
          "execution_count": 70
        },
        {
          "output_type": "display_data",
          "data": {
            "text/plain": [
              "<Figure size 432x288 with 1 Axes>"
            ],
            "image/png": "[encoded data removed]"
          },
          "metadata": {
            "needs_background": "light"
          }
        }
      ]
    },
    {
      "cell_type": "code",
      "metadata": {
        "id": "Q_GEanoC15pT",
        "colab": {
          "base_uri": "https://localhost:8080/"
        },
        "outputId": "5b3adf2a-0248-46c5-c8e2-145780903246"
      },
      "source": [
        "### gets the index of the least error\n",
        "hists_df['loss'].idxmin()\n",
        "### retrieve the theta of the least error\n",
        "hists_vals = hists_df.iloc[hists_df['loss'].idxmin()]\n",
        "hists_vals['theta']"
      ],
      "execution_count": 71,
      "outputs": [
        {
          "output_type": "execute_result",
          "data": {
            "text/plain": [
              "0.24"
            ]
          },
          "metadata": {},
          "execution_count": 71
        }
      ]
    },
    {
      "cell_type": "code",
      "metadata": {
        "colab": {
          "base_uri": "https://localhost:8080/",
          "height": 351
        },
        "id": "av2qZQu83j6j",
        "outputId": "35c47c6c-6b13-459b-9fc4-8c8a1bb1eccf"
      },
      "source": [
        "## Plotting\n",
        "model = hists_vals['theta']*X +b\n",
        "disp_hypothesis(X,y,hists_vals['model'], hists_vals['loss'], hists_vals['epoch'])"
      ],
      "execution_count": 72,
      "outputs": [
        {
          "output_type": "display_data",
          "data": {
            "text/plain": [
              "<Figure size 360x360 with 1 Axes>"
            ],
            "image/png": "[encoded data removed]"
          },
          "metadata": {
            "needs_background": "light"
          }
        }
      ]
    },
    {
      "cell_type": "code",
      "metadata": {
        "colab": {
          "base_uri": "https://localhost:8080/",
          "height": 351
        },
        "id": "fYxCeIOp8T1r",
        "outputId": "62ee3003-a55d-4304-8af7-6c3812e1d4be"
      },
      "source": [
        "epoch = 20\n",
        "vals = hists_df.loc[hists_df['epoch']==epoch]\n",
        "disp_hypothesis(X,y,vals['model'].iloc[0],\n",
        "                float(vals['loss']), \n",
        "                float(vals['epoch']))"
      ],
      "execution_count": 73,
      "outputs": [
        {
          "output_type": "display_data",
          "data": {
            "text/plain": [
              "<Figure size 360x360 with 1 Axes>"
            ],
            "image/png": "[encoded data removed]"
          },
          "metadata": {
            "needs_background": "light"
          }
        }
      ]
    },
    {
      "cell_type": "markdown",
      "metadata": {
        "id": "YlXwkRrhMDdp"
      },
      "source": [
        "## 4.4 Multiple Linear Regression \n",
        "Multiple linear regression, as the name suggests uses more linear regressors in the algorithm. This can be used if there are more than one features to a dataset. The MLR can be formulated as:\n",
        "$$y = \\omega_0 + \\omega_1 x_1 + \\omega_2 x_2 + ... + \\omega_n x_n \\\\ _{\\text{(Eq. 4.5.1)}}$$\n",
        "Whereas $\\omega_0$ is the bias term while $\\omega_n$ are the weights or slopes of the features $x_n$. The simplest way to implement an MLR algorithm is looping over each feature and their dataset and compute the corresponding weights. In this course, we are going to implement vectorization in implementing MLR. So instead of hte linear equation in Eq. 4.4 we can re-form the equation to the matrix equation:\n",
        "$$y = \\omega X^T$$\n",
        "Whereas $\\omega$ is a vector that includes all the weights of the features $\\begin{bmatrix}\\omega_0 \\\\ \\omega_1 \\\\ \\omega_2 \\\\ \\vdots \\\\ \\omega_n\\end{bmatrix}$. While $X$ are the data of each feature vector $\\begin{bmatrix}1\\\\ x_1 \\\\ x_2 \\\\ \\vdots \\\\ x_n\\end{bmatrix}$.\n",
        "\n",
        "We will use the **Normal Equation** in solving MLR. The Normal equation uses the Least-Squares Cost function and is formulated as:\n",
        "$$\\theta = (X^TX)^{-1}X^Ty \\\\ _{\\text{(Eq. 4.5.2)}}$$\n",
        "Whereas $\\theta$ is the hypothesis or model to be created while $X$ represents the data vector and $y$ represents the labels or values corresponding to the data vector. The term $(X^TX)^{-1}$ is called the **pseudoinverse** or the **Moore-Penrose** matrix. The pseudoinverse of a matrix term of Eq. 4.5 assures that the data are normal or orthogonal. This helps check the property of Autocorrelation between the features of the data. The other properties of datasets that are safe for linear regression are Homoscedasticity, Non-multicollinearity, and Non-endogeneity. "
      ]
    },
    {
      "cell_type": "code",
      "metadata": {
        "id": "O3Kdk-a9MG1x"
      },
      "source": [
        "import numpy as np\n",
        "\n",
        "\n",
        "satisfaction = np.array([4, 2, 3, 5, 1, 5, 4, 5, 3])\n",
        "motivation = np.array([3, 2, 3, 3, 1, 4, 3, 4, 3])\n",
        "study_time = np.array([8, 8, 7, 10, 5, 9,10, 9, 7])\n",
        "\n",
        "grades =  np.array([100, 98, 89, 78, 62, 80, 88, 90, 75])\n",
        "bias = np.ones(grades.shape)"
      ],
      "execution_count": 74,
      "outputs": []
    },
    {
      "cell_type": "code",
      "metadata": {
        "colab": {
          "base_uri": "https://localhost:8080/"
        },
        "id": "1_IY4SdreY0u",
        "outputId": "4e2e5c7b-d086-4977-d558-940a9e94955b"
      },
      "source": [
        "X = np.array([\n",
        "    satisfaction,\n",
        "    motivation,\n",
        "    study_time,\n",
        "    bias\n",
        "])\n",
        "y = grades.reshape(-1,1)\n",
        "y.shape"
      ],
      "execution_count": 75,
      "outputs": [
        {
          "output_type": "execute_result",
          "data": {
            "text/plain": [
              "(9, 1)"
            ]
          },
          "metadata": {},
          "execution_count": 75
        }
      ]
    },
    {
      "cell_type": "code",
      "metadata": {
        "colab": {
          "base_uri": "https://localhost:8080/",
          "height": 249
        },
        "id": "qGwxX5ZMe-kd",
        "outputId": "f1beaba7-0699-44b9-9b6b-98bf04aea89d"
      },
      "source": [
        "import matplotlib.pyplot as plt\n",
        "\n",
        "fig, ax = plt.subplots(nrows=1, ncols=3, figsize=(10,3.33))\n",
        "\n",
        "ax[0].scatter(X[0],y)\n",
        "ax[0].set_xlabel(\"Student Satisfaction\")\n",
        "ax[0].set_ylabel(\"Grades in %\")\n",
        "\n",
        "ax[1].scatter(X[1],y)\n",
        "ax[1].set_xlabel(\"Student Motivation\")\n",
        "ax[1].set_ylabel(\"Grades in %\")\n",
        "\n",
        "ax[2].scatter(X[2],y)\n",
        "ax[2].set_xlabel(\"Student Study Time (hrs)\")\n",
        "ax[2].set_ylabel(\"Grades in %\")\n",
        "\n",
        "plt.tight_layout()\n",
        "plt.show()"
      ],
      "execution_count": 76,
      "outputs": [
        {
          "output_type": "display_data",
          "data": {
            "text/plain": [
              "<Figure size 720x239.76 with 3 Axes>"
            ],
            "image/png": "[encoded data removed]"
          },
          "metadata": {
            "needs_background": "light"
          }
        }
      ]
    },
    {
      "cell_type": "code",
      "metadata": {
        "id": "-LWiTD-WOUtE",
        "colab": {
          "base_uri": "https://localhost:8080/"
        },
        "outputId": "a82b8695-ace7-431b-e3d4-930d17c65e10"
      },
      "source": [
        "X_train = X.T\n",
        "X_dot = X_train.T @ X_train\n",
        "pseudoinv = np.linalg.inv(X_dot)\n",
        "y_dot = X @ y\n",
        "theta = pseudoinv @ y_dot\n",
        "theta"
      ],
      "execution_count": 77,
      "outputs": [
        {
          "output_type": "execute_result",
          "data": {
            "text/plain": [
              "array([[-11.35140562],\n",
              "       [ 12.46385542],\n",
              "       [  6.78714859],\n",
              "       [ 33.74698795]])"
            ]
          },
          "metadata": {},
          "execution_count": 77
        }
      ]
    },
    {
      "cell_type": "code",
      "metadata": {
        "id": "fC0syEBvng7n"
      },
      "source": [
        "w0 = theta[-1]\n",
        "w1 = theta[0]\n",
        "w2 = theta[1]\n",
        "w3 = theta[2]"
      ],
      "execution_count": 78,
      "outputs": []
    },
    {
      "cell_type": "markdown",
      "metadata": {
        "id": "PtcGo4CpaCr6"
      },
      "source": [
        "$$y = \\omega_0 + \\omega_1 x_1 + \\omega_2 x_2 + \\omega_3 x_3$$\n",
        "$$y = 33.75 - 11.35x_1+12.46x_2+6.70x_4$$"
      ]
    },
    {
      "cell_type": "code",
      "metadata": {
        "colab": {
          "base_uri": "https://localhost:8080/",
          "height": 249
        },
        "id": "NKYjnYWOj8vO",
        "outputId": "c6e13a46-3e67-4a69-ddd2-c00110974b8a"
      },
      "source": [
        "fig, ax = plt.subplots(nrows=1, ncols=3, figsize=(10,3.33))\n",
        "\n",
        "ax[0].scatter(X[0],y)\n",
        "y_1 = w1*X[0]+w0\n",
        "ax[0].plot(X[0], y_1)\n",
        "ax[0].set_xlabel(\"Student Satisfaction\")\n",
        "ax[0].set_ylabel(\"Grades in %\")\n",
        "\n",
        "ax[1].scatter(X[1],y)\n",
        "y_2 = w2*X[1]+w0\n",
        "ax[1].plot(X[1], y_2)\n",
        "ax[1].set_xlabel(\"Student Motivation\")\n",
        "ax[1].set_ylabel(\"Grades in %\")\n",
        "\n",
        "ax[2].scatter(X[2],y)\n",
        "y_3 = w3*X[2]+w0\n",
        "ax[2].plot(X[2], y_3)\n",
        "ax[2].set_xlabel(\"Student Study Time (hrs)\")\n",
        "ax[2].set_ylabel(\"Grades in %\")\n",
        "\n",
        "plt.tight_layout()\n",
        "plt.show()"
      ],
      "execution_count": 79,
      "outputs": [
        {
          "output_type": "display_data",
          "data": {
            "text/plain": [
              "<Figure size 720x239.76 with 3 Axes>"
            ],
            "image/png": "[encoded data removed]"
          },
          "metadata": {
            "needs_background": "light"
          }
        }
      ]
    },
    {
      "cell_type": "code",
      "metadata": {
        "colab": {
          "base_uri": "https://localhost:8080/"
        },
        "id": "lW0fUSBZ6jXd",
        "outputId": "fc35b2fe-c008-46f1-e4e9-9bc5fbb818fe"
      },
      "source": [
        "np.corrcoef(X[1],y.flatten(), bias=True)"
      ],
      "execution_count": 80,
      "outputs": [
        {
          "output_type": "stream",
          "name": "stderr",
          "text": [
            "/usr/local/lib/python3.7/dist-packages/ipykernel_launcher.py:1: DeprecationWarning: bias and ddof have no effect and are deprecated\n",
            "  \"\"\"Entry point for launching an IPython kernel.\n"
          ]
        },
        {
          "output_type": "execute_result",
          "data": {
            "text/plain": [
              "array([[1.        , 0.36543536],\n",
              "       [0.36543536, 1.        ]])"
            ]
          },
          "metadata": {},
          "execution_count": 80
        }
      ]
    },
    {
      "cell_type": "code",
      "metadata": {
        "id": "TnDQd8_Cr5L3"
      },
      "source": [
        "def train(X,y):\n",
        "  X_train = X.T\n",
        "  pseudoinv = np.linalg.inv(X_train.T @ X_train)\n",
        "  y_dot = X @ y\n",
        "  theta = pseudoinv @ y_dot\n",
        "  return theta"
      ],
      "execution_count": 81,
      "outputs": []
    },
    {
      "cell_type": "code",
      "metadata": {
        "id": "51zhGpfSm-e5"
      },
      "source": [
        "def predict(w, X):\n",
        "  preds = []\n",
        "  prod = lambda x, w: w*x \n",
        "  for i in range(X.shape[0]):\n",
        "    feature_sum = 0\n",
        "    for j in range(X.shape[1]):\n",
        "      feature_sum += prod(w[j], X[i][j])\n",
        "    preds.append(feature_sum)\n",
        "  return np.array(preds)  "
      ],
      "execution_count": 82,
      "outputs": []
    },
    {
      "cell_type": "code",
      "metadata": {
        "id": "67qM2ymbOOYu"
      },
      "source": [
        "X_test = np.array([\n",
        "                   [4,4,11,1],\n",
        "                   [3,5,10,1],\n",
        "])"
      ],
      "execution_count": 83,
      "outputs": []
    },
    {
      "cell_type": "code",
      "metadata": {
        "colab": {
          "base_uri": "https://localhost:8080/"
        },
        "id": "DxBLEqqePkGt",
        "outputId": "f7c0a3c7-2d4c-4c13-b42f-23f609f5c54d"
      },
      "source": [
        "theta = train(X,y)\n",
        "predict(theta,X_test)"
      ],
      "execution_count": 84,
      "outputs": [
        {
          "output_type": "execute_result",
          "data": {
            "text/plain": [
              "array([[112.85542169],\n",
              "       [129.88353414]])"
            ]
          },
          "metadata": {},
          "execution_count": 84
        }
      ]
    },
    {
      "cell_type": "code",
      "metadata": {
        "colab": {
          "base_uri": "https://localhost:8080/"
        },
        "id": "iM7y6pWjk8Qv",
        "outputId": "c36f10bb-22b2-45b3-f18d-3b26a4fbdadb"
      },
      "source": [
        "from sklearn.linear_model import LinearRegression\n",
        "model = LinearRegression()\n",
        "model.fit(X.T,y)"
      ],
      "execution_count": 85,
      "outputs": [
        {
          "output_type": "execute_result",
          "data": {
            "text/plain": [
              "LinearRegression()"
            ]
          },
          "metadata": {},
          "execution_count": 85
        }
      ]
    },
    {
      "cell_type": "code",
      "metadata": {
        "colab": {
          "base_uri": "https://localhost:8080/"
        },
        "id": "u97nT_1Rlk7Q",
        "outputId": "a60bb1a5-9a66-4860-d5b9-5f8fea4e7769"
      },
      "source": [
        "model.coef_"
      ],
      "execution_count": 86,
      "outputs": [
        {
          "output_type": "execute_result",
          "data": {
            "text/plain": [
              "array([[-11.35140562,  12.46385542,   6.78714859,   0.        ]])"
            ]
          },
          "metadata": {},
          "execution_count": 86
        }
      ]
    },
    {
      "cell_type": "code",
      "metadata": {
        "colab": {
          "base_uri": "https://localhost:8080/"
        },
        "id": "A6OHEZRumRgI",
        "outputId": "3c96dd6e-74b4-45ca-90e5-03e7895063b2"
      },
      "source": [
        "model.intercept_"
      ],
      "execution_count": 87,
      "outputs": [
        {
          "output_type": "execute_result",
          "data": {
            "text/plain": [
              "array([33.74698795])"
            ]
          },
          "metadata": {},
          "execution_count": 87
        }
      ]
    },
    {
      "cell_type": "markdown",
      "source": [
        "#ACTIVITY\n",
        "\n",
        "##GIRON, JERIC S.<BR>\n",
        "##201913397\n"
      ],
      "metadata": {
        "id": "q8-B0aK2iaF7"
      }
    },
    {
      "cell_type": "code",
      "source": [
        "import pandas as pd\n",
        "\n",
        "\n",
        "movies = pd.read_csv(\"/content/movie_metadata_cleaned.csv\")\n",
        "print(movies)"
      ],
      "metadata": {
        "colab": {
          "base_uri": "https://localhost:8080/"
        },
        "id": "SBKI1PwwmX_l",
        "outputId": "6fd3dee9-e6cc-4c42-c7ec-41e1a20d65ab"
      },
      "execution_count": 99,
      "outputs": [
        {
          "output_type": "stream",
          "name": "stdout",
          "text": [
            "      Unnamed: 0                                        movie_title  color  \\\n",
            "0              0                                            Avatar   Color   \n",
            "1              1          Pirates of the Caribbean: At World's End   Color   \n",
            "2              2                                           Spectre   Color   \n",
            "3              3                             The Dark Knight Rises   Color   \n",
            "4              4  Star Wars: Episode VII - The Force Awakens    ...      0   \n",
            "...          ...                                                ...    ...   \n",
            "5039        5039                         The Following               Color   \n",
            "5040        5040                              A Plague So Pleasant   Color   \n",
            "5041        5041                                  Shanghai Calling   Color   \n",
            "5042        5042                                 My Date with Drew   Color   \n",
            "5043        5043                                Starting Over Again      0   \n",
            "\n",
            "          director_name  num_critic_for_reviews  duration  \\\n",
            "0         James Cameron                   723.0     178.0   \n",
            "1        Gore Verbinski                   302.0     169.0   \n",
            "2            Sam Mendes                   602.0     148.0   \n",
            "3     Christopher Nolan                   813.0     164.0   \n",
            "4           Doug Walker                     0.0       0.0   \n",
            "...                 ...                     ...       ...   \n",
            "5039                  0                    43.0      43.0   \n",
            "5040   Benjamin Roberds                    13.0      76.0   \n",
            "5041        Daniel Hsia                    14.0     100.0   \n",
            "5042           Jon Gunn                    43.0      90.0   \n",
            "5043     Olivia Lamasan                     0.0       0.0   \n",
            "\n",
            "      director_facebook_likes  actor_3_facebook_likes      actor_2_name  \\\n",
            "0                         0.0                   855.0  Joel David Moore   \n",
            "1                       563.0                  1000.0     Orlando Bloom   \n",
            "2                         0.0                   161.0      Rory Kinnear   \n",
            "3                     22000.0                 23000.0    Christian Bale   \n",
            "4                       131.0                     0.0        Rob Walker   \n",
            "...                       ...                     ...               ...   \n",
            "5039                      0.0                   319.0     Valorie Curry   \n",
            "5040                      0.0                     0.0     Maxwell Moody   \n",
            "5041                      0.0                   489.0     Daniel Henney   \n",
            "5042                     16.0                    16.0  Brian Herzlinger   \n",
            "5043                      0.0                     0.0      Toni Gonzaga   \n",
            "\n",
            "      actor_1_facebook_likes  ...  num_user_for_reviews language      country  \\\n",
            "0                     1000.0  ...                3054.0  English          USA   \n",
            "1                    40000.0  ...                1238.0  English          USA   \n",
            "2                    11000.0  ...                 994.0  English           UK   \n",
            "3                    27000.0  ...                2701.0  English          USA   \n",
            "4                      131.0  ...                   0.0        0            0   \n",
            "...                      ...  ...                   ...      ...          ...   \n",
            "5039                   841.0  ...                 359.0  English          USA   \n",
            "5040                     0.0  ...                   3.0  English          USA   \n",
            "5041                   946.0  ...                   9.0  English          USA   \n",
            "5042                    86.0  ...                  84.0  English          USA   \n",
            "5043                     0.0  ...                   0.0        0  Philippines   \n",
            "\n",
            "      content_rating       budget title_year  actor_2_facebook_likes  \\\n",
            "0              PG-13  237000000.0     2009.0                   936.0   \n",
            "1              PG-13  300000000.0     2007.0                  5000.0   \n",
            "2              PG-13  245000000.0     2015.0                   393.0   \n",
            "3              PG-13  250000000.0     2012.0                 23000.0   \n",
            "4                  0          0.0        0.0                    12.0   \n",
            "...              ...          ...        ...                     ...   \n",
            "5039           TV-14          0.0        0.0                   593.0   \n",
            "5040               0       1400.0     2013.0                     0.0   \n",
            "5041           PG-13          0.0     2012.0                   719.0   \n",
            "5042              PG       1100.0     2004.0                    23.0   \n",
            "5043              PG          0.0     2014.0                     0.0   \n",
            "\n",
            "     imdb_score aspect_ratio  movie_facebook_likes  \n",
            "0           7.9         1.78               33000.0  \n",
            "1           7.1         2.35                   0.0  \n",
            "2           6.8         2.35               85000.0  \n",
            "3           8.5         2.35              164000.0  \n",
            "4           7.1         0.00                   0.0  \n",
            "...         ...          ...                   ...  \n",
            "5039        7.5        16.00               32000.0  \n",
            "5040        6.3         0.00                  16.0  \n",
            "5041        6.3         2.35                 660.0  \n",
            "5042        6.6         1.85                 456.0  \n",
            "5043        0.0         0.00                   0.0  \n",
            "\n",
            "[5044 rows x 29 columns]\n"
          ]
        }
      ]
    },
    {
      "cell_type": "code",
      "source": [
        "for col in movies.columns:\n",
        "    print(col)"
      ],
      "metadata": {
        "colab": {
          "base_uri": "https://localhost:8080/"
        },
        "id": "QkX7dPQWosZb",
        "outputId": "ce35ecfc-70dd-4eb5-aab1-c3f0a465feb6"
      },
      "execution_count": 44,
      "outputs": [
        {
          "output_type": "stream",
          "name": "stdout",
          "text": [
            "Unnamed: 0\n",
            "movie_title\n",
            "color\n",
            "director_name\n",
            "num_critic_for_reviews\n",
            "duration\n",
            "director_facebook_likes\n",
            "actor_3_facebook_likes\n",
            "actor_2_name\n",
            "actor_1_facebook_likes\n",
            "gross\n",
            "genres\n",
            "actor_1_name\n",
            "num_voted_users\n",
            "cast_total_facebook_likes\n",
            "actor_3_name\n",
            "facenumber_in_poster\n",
            "plot_keywords\n",
            "movie_imdb_link\n",
            "num_user_for_reviews\n",
            "language\n",
            "country\n",
            "content_rating\n",
            "budget\n",
            "title_year\n",
            "actor_2_facebook_likes\n",
            "imdb_score\n",
            "aspect_ratio\n",
            "movie_facebook_likes\n"
          ]
        }
      ]
    },
    {
      "cell_type": "markdown",
      "source": [
        "#1. Is the no. of facebook likes in Director's Facebook page matters to the gross sales of the movie?"
      ],
      "metadata": {
        "id": "mObqtc2_pdT4"
      }
    },
    {
      "cell_type": "markdown",
      "source": [
        "# Answer: <br>\n",
        "###The number of Facebook likes on the director's page affects the movie's gross sales because when the number of likes on the director's page rises, the movie's gross also changes at the same time because the gross covariance result from the statistics is a positive value."
      ],
      "metadata": {
        "id": "86f9_QMpsqaa"
      }
    },
    {
      "cell_type": "code",
      "source": [
        "movies.loc[:,[\"director_facebook_likes\",\"gross\"]]"
      ],
      "metadata": {
        "colab": {
          "base_uri": "https://localhost:8080/",
          "height": 423
        },
        "id": "Xrl2VTu8pIs7",
        "outputId": "3cce1db7-e72a-40b9-8bc2-402b91e72db0"
      },
      "execution_count": 88,
      "outputs": [
        {
          "output_type": "execute_result",
          "data": {
            "text/plain": [
              "      director_facebook_likes        gross\n",
              "0                         0.0  760505847.0\n",
              "1                       563.0  309404152.0\n",
              "2                         0.0  200074175.0\n",
              "3                     22000.0  448130642.0\n",
              "4                       131.0          0.0\n",
              "...                       ...          ...\n",
              "5039                      0.0          0.0\n",
              "5040                      0.0          0.0\n",
              "5041                      0.0      10443.0\n",
              "5042                     16.0      85222.0\n",
              "5043                      0.0          0.0\n",
              "\n",
              "[5044 rows x 2 columns]"
            ],
            "text/html": [
              "\n",
              "  <div id=\"df-dc99f617-af7f-4b07-8ad5-59c97df94a05\">\n",
              "    <div class=\"colab-df-container\">\n",
              "      <div>\n",
              "<style scoped>\n",
              "    .dataframe tbody tr th:only-of-type {\n",
              "        vertical-align: middle;\n",
              "    }\n",
              "\n",
              "    .dataframe tbody tr th {\n",
              "        vertical-align: top;\n",
              "    }\n",
              "\n",
              "    .dataframe thead th {\n",
              "        text-align: right;\n",
              "    }\n",
              "</style>\n",
              "<table border=\"1\" class=\"dataframe\">\n",
              "  <thead>\n",
              "    <tr style=\"text-align: right;\">\n",
              "      <th></th>\n",
              "      <th>director_facebook_likes</th>\n",
              "      <th>gross</th>\n",
              "    </tr>\n",
              "  </thead>\n",
              "  <tbody>\n",
              "    <tr>\n",
              "      <th>0</th>\n",
              "      <td>0.0</td>\n",
              "      <td>760505847.0</td>\n",
              "    </tr>\n",
              "    <tr>\n",
              "      <th>1</th>\n",
              "      <td>563.0</td>\n",
              "      <td>309404152.0</td>\n",
              "    </tr>\n",
              "    <tr>\n",
              "      <th>2</th>\n",
              "      <td>0.0</td>\n",
              "      <td>200074175.0</td>\n",
              "    </tr>\n",
              "    <tr>\n",
              "      <th>3</th>\n",
              "      <td>22000.0</td>\n",
              "      <td>448130642.0</td>\n",
              "    </tr>\n",
              "    <tr>\n",
              "      <th>4</th>\n",
              "      <td>131.0</td>\n",
              "      <td>0.0</td>\n",
              "    </tr>\n",
              "    <tr>\n",
              "      <th>...</th>\n",
              "      <td>...</td>\n",
              "      <td>...</td>\n",
              "    </tr>\n",
              "    <tr>\n",
              "      <th>5039</th>\n",
              "      <td>0.0</td>\n",
              "      <td>0.0</td>\n",
              "    </tr>\n",
              "    <tr>\n",
              "      <th>5040</th>\n",
              "      <td>0.0</td>\n",
              "      <td>0.0</td>\n",
              "    </tr>\n",
              "    <tr>\n",
              "      <th>5041</th>\n",
              "      <td>0.0</td>\n",
              "      <td>10443.0</td>\n",
              "    </tr>\n",
              "    <tr>\n",
              "      <th>5042</th>\n",
              "      <td>16.0</td>\n",
              "      <td>85222.0</td>\n",
              "    </tr>\n",
              "    <tr>\n",
              "      <th>5043</th>\n",
              "      <td>0.0</td>\n",
              "      <td>0.0</td>\n",
              "    </tr>\n",
              "  </tbody>\n",
              "</table>\n",
              "<p>5044 rows × 2 columns</p>\n",
              "</div>\n",
              "      <button class=\"colab-df-convert\" onclick=\"convertToInteractive('df-dc99f617-af7f-4b07-8ad5-59c97df94a05')\"\n",
              "              title=\"Convert this dataframe to an interactive table.\"\n",
              "              style=\"display:none;\">\n",
              "        \n",
              "  <svg xmlns=\"http://www.w3.org/2000/svg\" height=\"24px\"viewBox=\"0 0 24 24\"\n",
              "       width=\"24px\">\n",
              "    <path d=\"M0 0h24v24H0V0z\" fill=\"none\"/>\n",
              "    <path d=\"M18.56 5.44l.94 2.06.94-2.06 2.06-.94-2.06-.94-.94-2.06-.94 2.06-2.06.94zm-11 1L8.5 8.5l.94-2.06 2.06-.94-2.06-.94L8.5 2.5l-.94 2.06-2.06.94zm10 10l.94 2.06.94-2.06 2.06-.94-2.06-.94-.94-2.06-.94 2.06-2.06.94z\"/><path d=\"M17.41 7.96l-1.37-1.37c-.4-.4-.92-.59-1.43-.59-.52 0-1.04.2-1.43.59L10.3 9.45l-7.72 7.72c-.78.78-.78 2.05 0 2.83L4 21.41c.39.39.9.59 1.41.59.51 0 1.02-.2 1.41-.59l7.78-7.78 2.81-2.81c.8-.78.8-2.07 0-2.86zM5.41 20L4 18.59l7.72-7.72 1.47 1.35L5.41 20z\"/>\n",
              "  </svg>\n",
              "      </button>\n",
              "      \n",
              "  <style>\n",
              "    .colab-df-container {\n",
              "      display:flex;\n",
              "      flex-wrap:wrap;\n",
              "      gap: 12px;\n",
              "    }\n",
              "\n",
              "    .colab-df-convert {\n",
              "      background-color: #E8F0FE;\n",
              "      border: none;\n",
              "      border-radius: 50%;\n",
              "      cursor: pointer;\n",
              "      display: none;\n",
              "      fill: #1967D2;\n",
              "      height: 32px;\n",
              "      padding: 0 0 0 0;\n",
              "      width: 32px;\n",
              "    }\n",
              "\n",
              "    .colab-df-convert:hover {\n",
              "      background-color: #E2EBFA;\n",
              "      box-shadow: 0px 1px 2px rgba(60, 64, 67, 0.3), 0px 1px 3px 1px rgba(60, 64, 67, 0.15);\n",
              "      fill: #174EA6;\n",
              "    }\n",
              "\n",
              "    [theme=dark] .colab-df-convert {\n",
              "      background-color: #3B4455;\n",
              "      fill: #D2E3FC;\n",
              "    }\n",
              "\n",
              "    [theme=dark] .colab-df-convert:hover {\n",
              "      background-color: #434B5C;\n",
              "      box-shadow: 0px 1px 3px 1px rgba(0, 0, 0, 0.15);\n",
              "      filter: drop-shadow(0px 1px 2px rgba(0, 0, 0, 0.3));\n",
              "      fill: #FFFFFF;\n",
              "    }\n",
              "  </style>\n",
              "\n",
              "      <script>\n",
              "        const buttonEl =\n",
              "          document.querySelector('#df-dc99f617-af7f-4b07-8ad5-59c97df94a05 button.colab-df-convert');\n",
              "        buttonEl.style.display =\n",
              "          google.colab.kernel.accessAllowed ? 'block' : 'none';\n",
              "\n",
              "        async function convertToInteractive(key) {\n",
              "          const element = document.querySelector('#df-dc99f617-af7f-4b07-8ad5-59c97df94a05');\n",
              "          const dataTable =\n",
              "            await google.colab.kernel.invokeFunction('convertToInteractive',\n",
              "                                                     [key], {});\n",
              "          if (!dataTable) return;\n",
              "\n",
              "          const docLinkHtml = 'Like what you see? Visit the ' +\n",
              "            '<a target=\"_blank\" href=https://colab.research.google.com/notebooks/data_table.ipynb>data table notebook</a>'\n",
              "            + ' to learn more about interactive tables.';\n",
              "          element.innerHTML = '';\n",
              "          dataTable['output_type'] = 'display_data';\n",
              "          await google.colab.output.renderOutput(dataTable, element);\n",
              "          const docLink = document.createElement('div');\n",
              "          docLink.innerHTML = docLinkHtml;\n",
              "          element.appendChild(docLink);\n",
              "        }\n",
              "      </script>\n",
              "    </div>\n",
              "  </div>\n",
              "  "
            ]
          },
          "metadata": {},
          "execution_count": 88
        }
      ]
    },
    {
      "cell_type": "code",
      "source": [
        "likes = movies.loc[:,'director_facebook_likes']\n",
        "gross = movies.loc[:,'gross']\n",
        "cov = likes.cov(gross).astype(int)\n",
        "print(f\"The covariance of the Director's facebook likes to gross is: {cov}\")"
      ],
      "metadata": {
        "colab": {
          "base_uri": "https://localhost:8080/"
        },
        "id": "x8z5YfAEpLpb",
        "outputId": "3441fb5c-5a6c-4c56-ac78-d5514f6c6fd1"
      },
      "execution_count": 89,
      "outputs": [
        {
          "output_type": "stream",
          "name": "stdout",
          "text": [
            "The covariance of the Director's facebook likes to gross is: 27085682274\n"
          ]
        }
      ]
    },
    {
      "cell_type": "markdown",
      "source": [
        "# 2. What is the correlation , is it negative or positive correlation? Show your graph?"
      ],
      "metadata": {
        "id": "t1iNHMrOpq1U"
      }
    },
    {
      "cell_type": "markdown",
      "source": [
        "# Answer <br>\n",
        "###Since the result value of the Director's Facebook likes and gross is 0.15, there is a positive correlation."
      ],
      "metadata": {
        "id": "Tfp4DVPrtICz"
      }
    },
    {
      "cell_type": "code",
      "source": [
        "correlation = movies[\"director_facebook_likes\"].corr(movies[\"gross\"],method='pearson', min_periods=1).round(2)\n",
        "print(f\"The correlation of Director's facebook likes and gross is: {correlation}\")"
      ],
      "metadata": {
        "colab": {
          "base_uri": "https://localhost:8080/"
        },
        "id": "lp4f7HpJppEW",
        "outputId": "7ac14fc4-9e2c-4b00-a4a8-b08f6a236ccc"
      },
      "execution_count": 90,
      "outputs": [
        {
          "output_type": "stream",
          "name": "stdout",
          "text": [
            "The correlation of Director's facebook likes and gross is: 0.15\n"
          ]
        }
      ]
    },
    {
      "cell_type": "code",
      "source": [
        "plt.figure(figsize=(10,8))\n",
        "sns.regplot(x= movies[\"director_facebook_likes\"], y= movies[\"gross\"], marker='o')"
      ],
      "metadata": {
        "colab": {
          "base_uri": "https://localhost:8080/",
          "height": 527
        },
        "id": "dXNRAkWKp7qC",
        "outputId": "184879b7-5108-41fb-cfc0-b83bff6a04a9"
      },
      "execution_count": 100,
      "outputs": [
        {
          "output_type": "execute_result",
          "data": {
            "text/plain": [
              "<matplotlib.axes._subplots.AxesSubplot at 0x7fd0c735a490>"
            ]
          },
          "metadata": {},
          "execution_count": 100
        },
        {
          "output_type": "display_data",
          "data": {
            "text/plain": [
              "<Figure size 720x576 with 1 Axes>"
            ],
            "image/png": "[encoded data removed]"
          },
          "metadata": {
            "needs_background": "light"
          }
        }
      ]
    },
    {
      "cell_type": "code",
      "source": [
        "correlation = movies[['director_facebook_likes','gross']].corr()\n",
        "sns.heatmap(correlation, annot=True)\n",
        "plt.show"
      ],
      "metadata": {
        "colab": {
          "base_uri": "https://localhost:8080/",
          "height": 288
        },
        "id": "APrY9IIrrMb_",
        "outputId": "11947660-1544-4706-dd81-8b1be1c51024"
      },
      "execution_count": 102,
      "outputs": [
        {
          "output_type": "execute_result",
          "data": {
            "text/plain": [
              "<function matplotlib.pyplot.show(*args, **kw)>"
            ]
          },
          "metadata": {},
          "execution_count": 102
        },
        {
          "output_type": "display_data",
          "data": {
            "text/plain": [
              "<Figure size 432x288 with 2 Axes>"
            ],
            "image/png": "[encoded data removed]"
          },
          "metadata": {
            "needs_background": "light"
          }
        }
      ]
    },
    {
      "cell_type": "markdown",
      "source": [
        "# 3. Does the plot of the movie dependent to budget? Show the positive and negative correlation if there is?"
      ],
      "metadata": {
        "id": "xFY93bUzrSAh"
      }
    },
    {
      "cell_type": "markdown",
      "source": [
        "#Answer <br>\n",
        "###Yes, the movie's budget has an impact on the plot."
      ],
      "metadata": {
        "id": "9o_l6rAktcmy"
      }
    },
    {
      "cell_type": "code",
      "source": [
        "plot = movies[\"plot_keywords\"]=movies[\"plot_keywords\"].astype('category').cat.codes\n",
        "plot\n"
      ],
      "metadata": {
        "colab": {
          "base_uri": "https://localhost:8080/"
        },
        "id": "FKB7YaGkrXS9",
        "outputId": "c31c8d38-6bf8-493a-b032-78a4d47adbb4"
      },
      "execution_count": 105,
      "outputs": [
        {
          "output_type": "execute_result",
          "data": {
            "text/plain": [
              "0       1319\n",
              "1       4282\n",
              "2       2079\n",
              "3       3483\n",
              "4          0\n",
              "        ... \n",
              "5039    3340\n",
              "5040       0\n",
              "5041       0\n",
              "5042     403\n",
              "5043       0\n",
              "Length: 5044, dtype: int16"
            ]
          },
          "metadata": {},
          "execution_count": 105
        }
      ]
    },
    {
      "cell_type": "code",
      "source": [
        "movies[\"plot_keywords\"]=movies[\"plot_keywords\"].astype('category').cat.codes\n",
        "correlation_spear = movies[\"plot_keywords\"].corr(movies[\"budget\"],method='spearman', min_periods=1).round(2) #spearman\n",
        "correlation_pear = movies[\"plot_keywords\"].corr(movies[\"budget\"],method='pearson', min_periods=1).round(3) #pearson\n",
        "print(f\"The correlation of movie's plot and budget using Spearson Correlation is: {correlation_spear}\")\n",
        "print(f\"The correlation of movie's plot and budget using Pearson Correlation is: {correlation_pear}\")"
      ],
      "metadata": {
        "colab": {
          "base_uri": "https://localhost:8080/"
        },
        "id": "ZFZ5ojFurguh",
        "outputId": "eae38f28-37ef-42fc-adf8-f0c2430ffd2f"
      },
      "execution_count": 108,
      "outputs": [
        {
          "output_type": "stream",
          "name": "stdout",
          "text": [
            "The correlation of movie's plot and budget using Spearson Correlation is: -0.02\n",
            "The correlation of movie's plot and budget using Pearson Correlation is: 0.002\n"
          ]
        }
      ]
    },
    {
      "cell_type": "code",
      "source": [
        "plt.figure(figsize=(10,8))\n",
        "plt.ylim(-0.1,1)\n",
        "plt.title(\"Using Pearson Correlation\")\n",
        "sns.regplot(x= movies[\"plot_keywords\"], y= movies[\"budget\"], marker ='o', color = 'green')"
      ],
      "metadata": {
        "colab": {
          "base_uri": "https://localhost:8080/",
          "height": 532
        },
        "id": "e8AJ4dUbrswi",
        "outputId": "fc2094c2-a1da-4642-999e-3aec782f617d"
      },
      "execution_count": 112,
      "outputs": [
        {
          "output_type": "execute_result",
          "data": {
            "text/plain": [
              "<matplotlib.axes._subplots.AxesSubplot at 0x7fd0c7324dd0>"
            ]
          },
          "metadata": {},
          "execution_count": 112
        },
        {
          "output_type": "display_data",
          "data": {
            "text/plain": [
              "<Figure size 720x576 with 1 Axes>"
            ],
            "image/png": "[encoded data removed]"
          },
          "metadata": {
            "needs_background": "light"
          }
        }
      ]
    },
    {
      "cell_type": "code",
      "source": [
        "movies[\"plot_keywords\"]=movies[\"plot_keywords\"].astype('category').cat.codes\n",
        "correlation_pear = movies[['plot_keywords','budget']].corr(method = 'pearson', min_periods=1)\n",
        "sns.heatmap(correlation_pear, annot=True)\n",
        "plt.show"
      ],
      "metadata": {
        "colab": {
          "base_uri": "https://localhost:8080/",
          "height": 288
        },
        "id": "RvomHIrKr7e_",
        "outputId": "53ba8774-72cd-4b6e-d478-7cd5434e8c75"
      },
      "execution_count": 113,
      "outputs": [
        {
          "output_type": "execute_result",
          "data": {
            "text/plain": [
              "<function matplotlib.pyplot.show(*args, **kw)>"
            ]
          },
          "metadata": {},
          "execution_count": 113
        },
        {
          "output_type": "display_data",
          "data": {
            "text/plain": [
              "<Figure size 432x288 with 2 Axes>"
            ],
            "image/png": "[encoded data removed]"
          },
          "metadata": {
            "needs_background": "light"
          }
        }
      ]
    },
    {
      "cell_type": "code",
      "source": [
        "movies[\"plot_keywords\"]=movies[\"plot_keywords\"].astype('category').cat.codes\n",
        "correlation_spear = movies[['plot_keywords','budget']].corr(method = 'spearman', min_periods=1).round(2)\n",
        "sns.heatmap(correlation_spear, annot=True)\n",
        "plt.show"
      ],
      "metadata": {
        "colab": {
          "base_uri": "https://localhost:8080/",
          "height": 288
        },
        "id": "bfpprx_lsDBx",
        "outputId": "9be34e5d-4c62-437a-857b-74460a3662c3"
      },
      "execution_count": 116,
      "outputs": [
        {
          "output_type": "execute_result",
          "data": {
            "text/plain": [
              "<function matplotlib.pyplot.show(*args, **kw)>"
            ]
          },
          "metadata": {},
          "execution_count": 116
        },
        {
          "output_type": "display_data",
          "data": {
            "text/plain": [
              "<Figure size 432x288 with 2 Axes>"
            ],
            "image/png": "[encoded data removed]"
          },
          "metadata": {
            "needs_background": "light"
          }
        }
      ]
    }
  ]
}